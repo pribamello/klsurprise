{
 "cells": [
  {
   "cell_type": "code",
   "execution_count": 16,
   "metadata": {},
   "outputs": [],
   "source": [
    "import numpy as np\n",
    "\n",
    "from jax import jit\n",
    "import jax.numpy as jnp\n",
    "\n",
    "import klsurprise as kls"
   ]
  },
  {
   "cell_type": "markdown",
   "metadata": {},
   "source": [
    "# Setting up a mock case for debuging"
   ]
  },
  {
   "cell_type": "code",
   "execution_count": 17,
   "metadata": {},
   "outputs": [
    {
     "name": "stdout",
     "output_type": "stream",
     "text": [
      "Fiducial parameters 1 =  [0.4 0.1]\n",
      "Fiducial parameters 2 =  [1.3 0.2]\n"
     ]
    }
   ],
   "source": [
    "# Set the seed for reproducibility\n",
    "np.random.seed(42)\n",
    "\n",
    "# Constants and dimensions\n",
    "theta_dim = 2\n",
    "D_dim = 7\n",
    "\n",
    "# Gera um vetor de parametros \\theta_1 e theta_2\n",
    "theta_fid_1 = np.array([0.4, 0.1])\n",
    "theta_fid_2 = np.array([1.3, 0.2])\n",
    "\n",
    "\n",
    "# generate F(theta) related quantities\n",
    "F0 = np.random.rand(D_dim)  # 7x1 vector\n",
    "M = np.random.rand(D_dim, theta_dim)  # 7x2 matrix\n",
    "# generate covariance matrix for likelihood L2\n",
    "C = np.random.rand(D_dim, D_dim)  # 7x7 matrix\n",
    "# generate covariance matrix for posterior 1\n",
    "Sigma_1 = np.random.rand(theta_dim, theta_dim)  # 2x2 matrix\n",
    "\n",
    "# Ensure C and Sigma are symmetric and positive-definite\n",
    "C = np.dot(C, C.T)\n",
    "Sigma_1 = np.dot(Sigma_1, Sigma_1.T)\n",
    "invS1 = np.linalg.inv(Sigma_1)\n",
    "\n",
    "# covariance matrix of posterior 2\n",
    "# Assuming Gaussianity and a flat prior, we can also derive the equations for Sigma_2. \n",
    "# See https://arxiv.org/abs/1402.3593 eq. A17.\n",
    "invC  = np.linalg.inv(C)\n",
    "invS2 = np.dot(M.T, np.dot(invC, M))\n",
    "Sigma_2 = np.linalg.inv(invS2)\n",
    "\n",
    "# Define the linear function F(theta)\n",
    "def F(theta):\n",
    "    return F0 + np.dot(M, theta)\n",
    "\n",
    "# fiducial data vectors\n",
    "################# hey there, maybe you should think some more here about putting noise to this vector!\n",
    "D1_fid = F(theta_fid_1) \n",
    "D2_fid = F(theta_fid_2)\n",
    "\n",
    "print(\"Fiducial parameters 1 = \", theta_fid_1)\n",
    "print(\"Fiducial parameters 2 = \", theta_fid_2)"
   ]
  },
  {
   "cell_type": "code",
   "execution_count": 18,
   "metadata": {},
   "outputs": [],
   "source": [
    "def multivariate_gaussian_pdf(theta, mean, cov):\n",
    "    \"\"\"\n",
    "    Calculate the PDF of a multivariate Gaussian distribution.\n",
    "\n",
    "    Parameters:\n",
    "    mean : array-like, shape (n,)\n",
    "        The mean vector of the Gaussian distribution.\n",
    "    cov : array-like, shape (n, n)\n",
    "        The covariance matrix of the Gaussian distribution.\n",
    "    theta : array-like, shape (n,)\n",
    "        The parameter vector at which to evaluate the PDF.\n",
    "\n",
    "    Returns:\n",
    "    pdf_value : float\n",
    "        The PDF value of the multivariate Gaussian at the data point.\n",
    "    \"\"\"\n",
    "    k = mean.shape[0]\n",
    "    diff = theta - mean\n",
    "    inv_cov = jnp.linalg.inv(cov)\n",
    "    logL = -0.5 * jnp.dot(diff, jnp.dot(inv_cov, diff))\n",
    "    norm_factor = jnp.log(jnp.sqrt((2 * jnp.pi) ** k * jnp.linalg.det(cov)))\n",
    "    logpdf_value = logL - norm_factor\n",
    "    return logpdf_value"
   ]
  },
  {
   "cell_type": "markdown",
   "metadata": {},
   "source": [
    "**Define both loglikelihoods that will be used in the main function**"
   ]
  },
  {
   "cell_type": "code",
   "execution_count": 19,
   "metadata": {},
   "outputs": [],
   "source": [
    "# Define the distributions as callable functions of theta and D\n",
    "@jit\n",
    "def logL1(theta):\n",
    "    return multivariate_gaussian_pdf(theta, theta_fid_1, Sigma_1)\n",
    "\n",
    "@jit\n",
    "def logL2(theta):\n",
    "    return multivariate_gaussian_pdf(theta, theta_fid_2, Sigma_2)\n",
    "\n",
    "domain = np.array([[5,-5], [5,-5]])"
   ]
  },
  {
   "cell_type": "markdown",
   "metadata": {},
   "source": [
    "# Debuging part"
   ]
  },
  {
   "cell_type": "markdown",
   "metadata": {},
   "source": [
    "## old"
   ]
  },
  {
   "cell_type": "markdown",
   "metadata": {},
   "source": [
    "**Class debug and nested sampling run:**"
   ]
  },
  {
   "cell_type": "code",
   "execution_count": 18,
   "metadata": {},
   "outputs": [
    {
     "data": {
      "text/plain": [
       "Array(-4.2779007, dtype=float32)"
      ]
     },
     "execution_count": 18,
     "metadata": {},
     "output_type": "execute_result"
    }
   ],
   "source": [
    "logL1(np.array([0.4,2]))"
   ]
  },
  {
   "cell_type": "code",
   "execution_count": 19,
   "metadata": {},
   "outputs": [],
   "source": [
    "sup = kls.surprise_statistics(logL1, F, covariance_matrix_2=C, domain=domain, data_2=D2_fid)"
   ]
  },
  {
   "cell_type": "code",
   "execution_count": 20,
   "metadata": {},
   "outputs": [
    {
     "name": "stderr",
     "output_type": "stream",
     "text": [
      "0it [00:00, ?it/s]"
     ]
    },
    {
     "name": "stderr",
     "output_type": "stream",
     "text": [
      "/home/prm/anaconda3/envs/surprise/lib/python3.10/site-packages/dynesty/dynamicsampler.py:453: RuntimeWarning: overflow encountered in cast\n",
      "  cur_live_logl[not_finite] = _LOWL_VAL\n",
      "17228it [00:16, 899.33it/s, batch: 18 | bound: 0 | nc: 5 | ncall: 88341 | eff(%): 19.502 | loglstar: -7.965 < -6.258 < -1.843 | logz: -4.554 +/-  0.038 | stop:  1.364]         Traceback (most recent call last):\n",
      "  File \"/home/prm/anaconda3/envs/surprise/lib/python3.10/site-packages/dynesty/dynesty.py\", line 910, in __call__\n",
      "    return self.func(np.asarray(x).copy(), *self.args, **self.kwargs)\n",
      "KeyboardInterrupt\n",
      "17319it [00:16, 1019.54it/s, batch: 18 | bound: 0 | nc: 1 | ncall: 88734 | eff(%): 19.351 | loglstar: -7.965 < -5.506 < -1.843 | logz: -4.554 +/-  0.038 | stop:  1.364]\n"
     ]
    },
    {
     "name": "stdout",
     "output_type": "stream",
     "text": [
      "Exception while calling loglikelihood function:\n",
      "  params: [-1.42533337 -3.56723243]\n",
      "  args: []\n",
      "  kwargs: {}\n",
      "  exception:\n"
     ]
    },
    {
     "ename": "KeyboardInterrupt",
     "evalue": "",
     "output_type": "error",
     "traceback": [
      "\u001b[0;31m---------------------------------------------------------------------------\u001b[0m",
      "\u001b[0;31mKeyboardInterrupt\u001b[0m                         Traceback (most recent call last)",
      "Cell \u001b[0;32mIn[20], line 1\u001b[0m\n\u001b[0;32m----> 1\u001b[0m res_1 \u001b[38;5;241m=\u001b[39m \u001b[43msup\u001b[49m\u001b[38;5;241;43m.\u001b[39;49m\u001b[43mrun_nested_sampling\u001b[49m\u001b[43m(\u001b[49m\u001b[43mlogL1\u001b[49m\u001b[43m,\u001b[49m\u001b[43m \u001b[49m\u001b[43mprint_progress\u001b[49m\u001b[38;5;241;43m=\u001b[39;49m\u001b[38;5;28;43;01mTrue\u001b[39;49;00m\u001b[43m)\u001b[49m\n\u001b[1;32m      2\u001b[0m res_2 \u001b[38;5;241m=\u001b[39m sup\u001b[38;5;241m.\u001b[39mrun_nested_sampling(logL2, print_progress\u001b[38;5;241m=\u001b[39m\u001b[38;5;28;01mTrue\u001b[39;00m)\n",
      "File \u001b[0;32m~/klsurprise/klsurprise.py:207\u001b[0m, in \u001b[0;36msurprise_statistics.run_nested_sampling\u001b[0;34m(self, loglikelihood, ndim, domain, prior_transform, static_NS, dynamic_NS, dlogz, print_progress, nlive, nlive_batch, maxiter, maxbatch, use_stop, bootstrap, n_effective, **kwargs)\u001b[0m\n\u001b[1;32m    203\u001b[0m \u001b[38;5;28;01mif\u001b[39;00m dynamic_NS:\n\u001b[1;32m    204\u001b[0m     \u001b[38;5;66;03m# \"Dynamic\" nested sampling.\u001b[39;00m\n\u001b[1;32m    205\u001b[0m     \u001b[38;5;66;03m# Effectively samples the posterior.\u001b[39;00m\n\u001b[1;32m    206\u001b[0m     dsampler \u001b[38;5;241m=\u001b[39m dynesty\u001b[38;5;241m.\u001b[39mDynamicNestedSampler(loglikelihood, prior_transform_fun, ndim, bootstrap\u001b[38;5;241m=\u001b[39mbootstrap)\n\u001b[0;32m--> 207\u001b[0m     \u001b[43mdsampler\u001b[49m\u001b[38;5;241;43m.\u001b[39;49m\u001b[43mrun_nested\u001b[49m\u001b[43m(\u001b[49m\u001b[43mdlogz_init\u001b[49m\u001b[38;5;241;43m=\u001b[39;49m\u001b[43mdlogz\u001b[49m\u001b[43m,\u001b[49m\u001b[43m \u001b[49m\u001b[43mprint_progress\u001b[49m\u001b[38;5;241;43m=\u001b[39;49m\u001b[43mprint_progress\u001b[49m\u001b[43m,\u001b[49m\u001b[43m \u001b[49m\u001b[43mnlive_init\u001b[49m\u001b[38;5;241;43m=\u001b[39;49m\u001b[43mnlive\u001b[49m\u001b[43m,\u001b[49m\u001b[43m \u001b[49m\n\u001b[1;32m    208\u001b[0m \u001b[43m                        \u001b[49m\u001b[43mnlive_batch\u001b[49m\u001b[38;5;241;43m=\u001b[39;49m\u001b[43mnlive_batch\u001b[49m\u001b[43m,\u001b[49m\u001b[43m \u001b[49m\u001b[43mmaxbatch\u001b[49m\u001b[38;5;241;43m=\u001b[39;49m\u001b[43mmaxbatch\u001b[49m\u001b[43m,\u001b[49m\u001b[43m \u001b[49m\u001b[43mmaxiter\u001b[49m\u001b[38;5;241;43m=\u001b[39;49m\u001b[43mmaxiter\u001b[49m\u001b[43m,\u001b[49m\u001b[43m \u001b[49m\u001b[43muse_stop\u001b[49m\u001b[38;5;241;43m=\u001b[39;49m\u001b[43muse_stop\u001b[49m\u001b[43m,\u001b[49m\u001b[43m \u001b[49m\u001b[43mn_effective\u001b[49m\u001b[38;5;241;43m=\u001b[39;49m\u001b[43mn_effective\u001b[49m\u001b[43m)\u001b[49m\n\u001b[1;32m    209\u001b[0m     dresults \u001b[38;5;241m=\u001b[39m dsampler\u001b[38;5;241m.\u001b[39mresults\n\u001b[1;32m    210\u001b[0m     results \u001b[38;5;241m=\u001b[39m dresults\n",
      "File \u001b[0;32m~/anaconda3/envs/surprise/lib/python3.10/site-packages/dynesty/dynamicsampler.py:2106\u001b[0m, in \u001b[0;36mDynamicSampler.run_nested\u001b[0;34m(self, nlive_init, maxiter_init, maxcall_init, dlogz_init, logl_max_init, n_effective_init, nlive_batch, wt_function, wt_kwargs, maxiter_batch, maxcall_batch, maxiter, maxcall, maxbatch, n_effective, stop_function, stop_kwargs, use_stop, save_bounds, print_progress, print_func, live_points, resume, checkpoint_file, checkpoint_every)\u001b[0m\n\u001b[1;32m   2101\u001b[0m \u001b[38;5;66;03m# If we have likelihood calls remaining, iterations remaining,\u001b[39;00m\n\u001b[1;32m   2102\u001b[0m \u001b[38;5;66;03m# and we have failed to hit the minimum ESS, run our batch.\u001b[39;00m\n\u001b[1;32m   2103\u001b[0m \u001b[38;5;28;01mif\u001b[39;00m mcall \u001b[38;5;241m>\u001b[39m \u001b[38;5;241m0\u001b[39m \u001b[38;5;129;01mand\u001b[39;00m miter \u001b[38;5;241m>\u001b[39m \u001b[38;5;241m0\u001b[39m \u001b[38;5;129;01mand\u001b[39;00m \u001b[38;5;129;01mnot\u001b[39;00m stop:\n\u001b[1;32m   2104\u001b[0m     \u001b[38;5;66;03m# Compute our sampling bounds using the provided\u001b[39;00m\n\u001b[1;32m   2105\u001b[0m     \u001b[38;5;66;03m# weight function.\u001b[39;00m\n\u001b[0;32m-> 2106\u001b[0m     passback \u001b[38;5;241m=\u001b[39m \u001b[38;5;28;43mself\u001b[39;49m\u001b[38;5;241;43m.\u001b[39;49m\u001b[43madd_batch\u001b[49m\u001b[43m(\u001b[49m\u001b[43mnlive\u001b[49m\u001b[38;5;241;43m=\u001b[39;49m\u001b[43mnlive_batch\u001b[49m\u001b[43m,\u001b[49m\n\u001b[1;32m   2107\u001b[0m \u001b[43m                              \u001b[49m\u001b[43mwt_function\u001b[49m\u001b[38;5;241;43m=\u001b[39;49m\u001b[43mwt_function\u001b[49m\u001b[43m,\u001b[49m\n\u001b[1;32m   2108\u001b[0m \u001b[43m                              \u001b[49m\u001b[43mwt_kwargs\u001b[49m\u001b[38;5;241;43m=\u001b[39;49m\u001b[43mwt_kwargs\u001b[49m\u001b[43m,\u001b[49m\n\u001b[1;32m   2109\u001b[0m \u001b[43m                              \u001b[49m\u001b[43mmaxiter\u001b[49m\u001b[38;5;241;43m=\u001b[39;49m\u001b[43mmiter\u001b[49m\u001b[43m,\u001b[49m\n\u001b[1;32m   2110\u001b[0m \u001b[43m                              \u001b[49m\u001b[43mmaxcall\u001b[49m\u001b[38;5;241;43m=\u001b[39;49m\u001b[43mmcall\u001b[49m\u001b[43m,\u001b[49m\n\u001b[1;32m   2111\u001b[0m \u001b[43m                              \u001b[49m\u001b[43msave_bounds\u001b[49m\u001b[38;5;241;43m=\u001b[39;49m\u001b[43msave_bounds\u001b[49m\u001b[43m,\u001b[49m\n\u001b[1;32m   2112\u001b[0m \u001b[43m                              \u001b[49m\u001b[43mprint_progress\u001b[49m\u001b[38;5;241;43m=\u001b[39;49m\u001b[43mprint_progress\u001b[49m\u001b[43m,\u001b[49m\n\u001b[1;32m   2113\u001b[0m \u001b[43m                              \u001b[49m\u001b[43mprint_func\u001b[49m\u001b[38;5;241;43m=\u001b[39;49m\u001b[43mprint_func\u001b[49m\u001b[43m,\u001b[49m\n\u001b[1;32m   2114\u001b[0m \u001b[43m                              \u001b[49m\u001b[43mstop_val\u001b[49m\u001b[38;5;241;43m=\u001b[39;49m\u001b[43mstop_val\u001b[49m\u001b[43m,\u001b[49m\n\u001b[1;32m   2115\u001b[0m \u001b[43m                              \u001b[49m\u001b[43mresume\u001b[49m\u001b[38;5;241;43m=\u001b[39;49m\u001b[43mresume\u001b[49m\u001b[43m,\u001b[49m\n\u001b[1;32m   2116\u001b[0m \u001b[43m                              \u001b[49m\u001b[43mcheckpoint_file\u001b[49m\u001b[38;5;241;43m=\u001b[39;49m\u001b[43mcheckpoint_file\u001b[49m\u001b[43m)\u001b[49m\n\u001b[1;32m   2117\u001b[0m     \u001b[38;5;28;01mif\u001b[39;00m resume:\n\u001b[1;32m   2118\u001b[0m         \u001b[38;5;66;03m# The assumption here is after the first resume\u001b[39;00m\n\u001b[1;32m   2119\u001b[0m         \u001b[38;5;66;03m# iteration we will proceed as normal\u001b[39;00m\n\u001b[1;32m   2120\u001b[0m         resume \u001b[38;5;241m=\u001b[39m \u001b[38;5;28;01mFalse\u001b[39;00m\n",
      "File \u001b[0;32m~/anaconda3/envs/surprise/lib/python3.10/site-packages/dynesty/dynamicsampler.py:2280\u001b[0m, in \u001b[0;36mDynamicSampler.add_batch\u001b[0;34m(self, nlive, dlogz, mode, wt_function, wt_kwargs, maxiter, maxcall, logl_bounds, save_bounds, print_progress, print_func, stop_val, resume, checkpoint_file, checkpoint_every)\u001b[0m\n\u001b[1;32m   2278\u001b[0m results \u001b[38;5;241m=\u001b[39m \u001b[38;5;28;01mNone\u001b[39;00m  \u001b[38;5;66;03m# to silence pylint as\u001b[39;00m\n\u001b[1;32m   2279\u001b[0m \u001b[38;5;66;03m# sample_batch() should return something given maxiter/maxcall\u001b[39;00m\n\u001b[0;32m-> 2280\u001b[0m \u001b[38;5;28;01mfor\u001b[39;00m cur_results \u001b[38;5;129;01min\u001b[39;00m \u001b[38;5;28mself\u001b[39m\u001b[38;5;241m.\u001b[39msample_batch(nlive_new\u001b[38;5;241m=\u001b[39mnlive,\n\u001b[1;32m   2281\u001b[0m                                      dlogz\u001b[38;5;241m=\u001b[39mdlogz,\n\u001b[1;32m   2282\u001b[0m                                      logl_bounds\u001b[38;5;241m=\u001b[39mlogl_bounds,\n\u001b[1;32m   2283\u001b[0m                                      maxiter\u001b[38;5;241m=\u001b[39mmaxiter,\n\u001b[1;32m   2284\u001b[0m                                      maxcall\u001b[38;5;241m=\u001b[39mmaxcall,\n\u001b[1;32m   2285\u001b[0m                                      save_bounds\u001b[38;5;241m=\u001b[39msave_bounds,\n\u001b[1;32m   2286\u001b[0m                                      resume\u001b[38;5;241m=\u001b[39mresume):\n\u001b[1;32m   2287\u001b[0m     \u001b[38;5;28;01mif\u001b[39;00m resume:\n\u001b[1;32m   2288\u001b[0m         \u001b[38;5;66;03m# only one resume iteration, after that\u001b[39;00m\n\u001b[1;32m   2289\u001b[0m         \u001b[38;5;66;03m# we switch to normal, although currently\u001b[39;00m\n\u001b[1;32m   2290\u001b[0m         \u001b[38;5;66;03m# resume is not used anywhere after\u001b[39;00m\n\u001b[1;32m   2291\u001b[0m         resume \u001b[38;5;241m=\u001b[39m \u001b[38;5;28;01mFalse\u001b[39;00m\n",
      "File \u001b[0;32m~/anaconda3/envs/surprise/lib/python3.10/site-packages/dynesty/dynamicsampler.py:1595\u001b[0m, in \u001b[0;36mDynamicSampler.sample_batch\u001b[0;34m(self, dlogz, nlive_new, update_interval, logl_bounds, maxiter, maxcall, save_bounds, resume)\u001b[0m\n\u001b[1;32m   1592\u001b[0m iterated_batch \u001b[38;5;241m=\u001b[39m \u001b[38;5;28;01mFalse\u001b[39;00m\n\u001b[1;32m   1593\u001b[0m \u001b[38;5;66;03m# To identify if the loop below was executed or not\u001b[39;00m\n\u001b[0;32m-> 1595\u001b[0m \u001b[38;5;28;01mfor\u001b[39;00m it, results \u001b[38;5;129;01min\u001b[39;00m \u001b[38;5;28menumerate\u001b[39m(\n\u001b[1;32m   1596\u001b[0m         batch_sampler\u001b[38;5;241m.\u001b[39msample(dlogz\u001b[38;5;241m=\u001b[39mdlogz,\n\u001b[1;32m   1597\u001b[0m                              logl_max\u001b[38;5;241m=\u001b[39mlogl_max,\n\u001b[1;32m   1598\u001b[0m                              maxiter\u001b[38;5;241m=\u001b[39mmaxiter_left,\n\u001b[1;32m   1599\u001b[0m                              maxcall\u001b[38;5;241m=\u001b[39mmaxcall_left,\n\u001b[1;32m   1600\u001b[0m                              save_samples\u001b[38;5;241m=\u001b[39m\u001b[38;5;28;01mTrue\u001b[39;00m,\n\u001b[1;32m   1601\u001b[0m                              save_bounds\u001b[38;5;241m=\u001b[39msave_bounds,\n\u001b[1;32m   1602\u001b[0m                              resume\u001b[38;5;241m=\u001b[39mresume)):\n\u001b[1;32m   1603\u001b[0m     \u001b[38;5;66;03m# Save results.\u001b[39;00m\n\u001b[1;32m   1604\u001b[0m     D \u001b[38;5;241m=\u001b[39m \u001b[38;5;28mdict\u001b[39m(\u001b[38;5;28mid\u001b[39m\u001b[38;5;241m=\u001b[39mresults\u001b[38;5;241m.\u001b[39mworst,\n\u001b[1;32m   1605\u001b[0m              u\u001b[38;5;241m=\u001b[39mresults\u001b[38;5;241m.\u001b[39mustar,\n\u001b[1;32m   1606\u001b[0m              v\u001b[38;5;241m=\u001b[39mresults\u001b[38;5;241m.\u001b[39mvstar,\n\u001b[0;32m   (...)\u001b[0m\n\u001b[1;32m   1613\u001b[0m              bounditer\u001b[38;5;241m=\u001b[39mresults\u001b[38;5;241m.\u001b[39mbounditer,\n\u001b[1;32m   1614\u001b[0m              scale\u001b[38;5;241m=\u001b[39mbatch_sampler\u001b[38;5;241m.\u001b[39mscale)\n\u001b[1;32m   1615\u001b[0m     \u001b[38;5;28mself\u001b[39m\u001b[38;5;241m.\u001b[39mnew_run\u001b[38;5;241m.\u001b[39mappend(D)\n",
      "File \u001b[0;32m~/anaconda3/envs/surprise/lib/python3.10/site-packages/dynesty/sampler.py:843\u001b[0m, in \u001b[0;36mSampler.sample\u001b[0;34m(self, maxiter, maxcall, dlogz, logl_max, n_effective, add_live, save_bounds, save_samples, resume)\u001b[0m\n\u001b[1;32m    838\u001b[0m     old_blob \u001b[38;5;241m=\u001b[39m \u001b[38;5;28;01mNone\u001b[39;00m\n\u001b[1;32m    840\u001b[0m \u001b[38;5;66;03m# Sample a new live point from within the likelihood constraint\u001b[39;00m\n\u001b[1;32m    841\u001b[0m \u001b[38;5;66;03m# `logl > loglstar` using the bounding distribution and sampling\u001b[39;00m\n\u001b[1;32m    842\u001b[0m \u001b[38;5;66;03m# method from our sampler.\u001b[39;00m\n\u001b[0;32m--> 843\u001b[0m u, v, logl, nc \u001b[38;5;241m=\u001b[39m \u001b[38;5;28;43mself\u001b[39;49m\u001b[38;5;241;43m.\u001b[39;49m\u001b[43m_new_point\u001b[49m\u001b[43m(\u001b[49m\u001b[43mloglstar_new\u001b[49m\u001b[43m)\u001b[49m\n\u001b[1;32m    844\u001b[0m ncall \u001b[38;5;241m+\u001b[39m\u001b[38;5;241m=\u001b[39m nc\n\u001b[1;32m    845\u001b[0m \u001b[38;5;28mself\u001b[39m\u001b[38;5;241m.\u001b[39mncall \u001b[38;5;241m+\u001b[39m\u001b[38;5;241m=\u001b[39m nc\n",
      "File \u001b[0;32m~/anaconda3/envs/surprise/lib/python3.10/site-packages/dynesty/sampler.py:421\u001b[0m, in \u001b[0;36mSampler._new_point\u001b[0;34m(self, loglstar)\u001b[0m\n\u001b[1;32m    418\u001b[0m ncall_accum \u001b[38;5;241m=\u001b[39m \u001b[38;5;241m0\u001b[39m\n\u001b[1;32m    419\u001b[0m \u001b[38;5;28;01mwhile\u001b[39;00m \u001b[38;5;28;01mTrue\u001b[39;00m:\n\u001b[1;32m    420\u001b[0m     \u001b[38;5;66;03m# Get the next point from the queue\u001b[39;00m\n\u001b[0;32m--> 421\u001b[0m     u, v, logl, nc, blob \u001b[38;5;241m=\u001b[39m \u001b[38;5;28;43mself\u001b[39;49m\u001b[38;5;241;43m.\u001b[39;49m\u001b[43m_get_point_value\u001b[49m\u001b[43m(\u001b[49m\u001b[43mloglstar\u001b[49m\u001b[43m)\u001b[49m\n\u001b[1;32m    422\u001b[0m     ncall \u001b[38;5;241m+\u001b[39m\u001b[38;5;241m=\u001b[39m nc\n\u001b[1;32m    423\u001b[0m     ncall_accum \u001b[38;5;241m+\u001b[39m\u001b[38;5;241m=\u001b[39m nc\n",
      "File \u001b[0;32m~/anaconda3/envs/surprise/lib/python3.10/site-packages/dynesty/sampler.py:404\u001b[0m, in \u001b[0;36mSampler._get_point_value\u001b[0;34m(self, loglstar)\u001b[0m\n\u001b[1;32m    402\u001b[0m \u001b[38;5;66;03m# If the queue is empty, refill it.\u001b[39;00m\n\u001b[1;32m    403\u001b[0m \u001b[38;5;28;01mif\u001b[39;00m \u001b[38;5;28mself\u001b[39m\u001b[38;5;241m.\u001b[39mnqueue \u001b[38;5;241m<\u001b[39m\u001b[38;5;241m=\u001b[39m \u001b[38;5;241m0\u001b[39m:\n\u001b[0;32m--> 404\u001b[0m     \u001b[38;5;28;43mself\u001b[39;49m\u001b[38;5;241;43m.\u001b[39;49m\u001b[43m_fill_queue\u001b[49m\u001b[43m(\u001b[49m\u001b[43mloglstar\u001b[49m\u001b[43m)\u001b[49m\n\u001b[1;32m    406\u001b[0m \u001b[38;5;66;03m# Grab the earliest entry.\u001b[39;00m\n\u001b[1;32m    407\u001b[0m u, v, logl, nc, blob \u001b[38;5;241m=\u001b[39m \u001b[38;5;28mself\u001b[39m\u001b[38;5;241m.\u001b[39mqueue\u001b[38;5;241m.\u001b[39mpop(\u001b[38;5;241m0\u001b[39m)\n",
      "File \u001b[0;32m~/anaconda3/envs/surprise/lib/python3.10/site-packages/dynesty/sampler.py:397\u001b[0m, in \u001b[0;36mSampler._fill_queue\u001b[0;34m(self, loglstar)\u001b[0m\n\u001b[1;32m    387\u001b[0m \u001b[38;5;28;01mfor\u001b[39;00m i \u001b[38;5;129;01min\u001b[39;00m \u001b[38;5;28mrange\u001b[39m(\u001b[38;5;28mself\u001b[39m\u001b[38;5;241m.\u001b[39mqueue_size):\n\u001b[1;32m    388\u001b[0m     args\u001b[38;5;241m.\u001b[39mappend(\n\u001b[1;32m    389\u001b[0m         SamplerArgument(u\u001b[38;5;241m=\u001b[39mpoint_queue[i],\n\u001b[1;32m    390\u001b[0m                         loglstar\u001b[38;5;241m=\u001b[39mloglstar,\n\u001b[0;32m   (...)\u001b[0m\n\u001b[1;32m    395\u001b[0m                         rseed\u001b[38;5;241m=\u001b[39mseeds[i],\n\u001b[1;32m    396\u001b[0m                         kwargs\u001b[38;5;241m=\u001b[39m\u001b[38;5;28mself\u001b[39m\u001b[38;5;241m.\u001b[39mkwargs))\n\u001b[0;32m--> 397\u001b[0m \u001b[38;5;28mself\u001b[39m\u001b[38;5;241m.\u001b[39mqueue \u001b[38;5;241m=\u001b[39m \u001b[38;5;28;43mlist\u001b[39;49m\u001b[43m(\u001b[49m\u001b[43mmapper\u001b[49m\u001b[43m(\u001b[49m\u001b[43mevolve_point\u001b[49m\u001b[43m,\u001b[49m\u001b[43m \u001b[49m\u001b[43margs\u001b[49m\u001b[43m)\u001b[49m\u001b[43m)\u001b[49m\n",
      "File \u001b[0;32m~/anaconda3/envs/surprise/lib/python3.10/site-packages/dynesty/sampling.py:88\u001b[0m, in \u001b[0;36msample_unif\u001b[0;34m(args)\u001b[0m\n\u001b[1;32m     84\u001b[0m \u001b[38;5;66;03m# Unzipping.\u001b[39;00m\n\u001b[1;32m     85\u001b[0m \n\u001b[1;32m     86\u001b[0m \u001b[38;5;66;03m# Evaluate.\u001b[39;00m\n\u001b[1;32m     87\u001b[0m v \u001b[38;5;241m=\u001b[39m args\u001b[38;5;241m.\u001b[39mprior_transform(np\u001b[38;5;241m.\u001b[39masarray(args\u001b[38;5;241m.\u001b[39mu))\n\u001b[0;32m---> 88\u001b[0m logl \u001b[38;5;241m=\u001b[39m \u001b[43margs\u001b[49m\u001b[38;5;241;43m.\u001b[39;49m\u001b[43mloglikelihood\u001b[49m\u001b[43m(\u001b[49m\u001b[43mnp\u001b[49m\u001b[38;5;241;43m.\u001b[39;49m\u001b[43masarray\u001b[49m\u001b[43m(\u001b[49m\u001b[43mv\u001b[49m\u001b[43m)\u001b[49m\u001b[43m)\u001b[49m\n\u001b[1;32m     89\u001b[0m nc \u001b[38;5;241m=\u001b[39m \u001b[38;5;241m1\u001b[39m\n\u001b[1;32m     90\u001b[0m blob \u001b[38;5;241m=\u001b[39m \u001b[38;5;28;01mNone\u001b[39;00m\n",
      "File \u001b[0;32m~/anaconda3/envs/surprise/lib/python3.10/site-packages/dynesty/utils.py:187\u001b[0m, in \u001b[0;36mLogLikelihood.__call__\u001b[0;34m(self, x)\u001b[0m\n\u001b[1;32m    183\u001b[0m \u001b[38;5;28;01mdef\u001b[39;00m \u001b[38;5;21m__call__\u001b[39m(\u001b[38;5;28mself\u001b[39m, x):\n\u001b[1;32m    184\u001b[0m \u001b[38;5;250m    \u001b[39m\u001b[38;5;124;03m\"\"\"\u001b[39;00m\n\u001b[1;32m    185\u001b[0m \u001b[38;5;124;03m    Evaluate the likelihood f-n once\u001b[39;00m\n\u001b[1;32m    186\u001b[0m \u001b[38;5;124;03m    \"\"\"\u001b[39;00m\n\u001b[0;32m--> 187\u001b[0m     ret \u001b[38;5;241m=\u001b[39m LoglOutput(\u001b[38;5;28;43mself\u001b[39;49m\u001b[38;5;241;43m.\u001b[39;49m\u001b[43mloglikelihood\u001b[49m\u001b[43m(\u001b[49m\u001b[43mx\u001b[49m\u001b[43m)\u001b[49m, \u001b[38;5;28mself\u001b[39m\u001b[38;5;241m.\u001b[39mblob)\n\u001b[1;32m    188\u001b[0m     \u001b[38;5;28;01mif\u001b[39;00m \u001b[38;5;28mself\u001b[39m\u001b[38;5;241m.\u001b[39msave:\n\u001b[1;32m    189\u001b[0m         \u001b[38;5;28mself\u001b[39m\u001b[38;5;241m.\u001b[39mhistory_append([ret\u001b[38;5;241m.\u001b[39mval], [x])\n",
      "File \u001b[0;32m~/anaconda3/envs/surprise/lib/python3.10/site-packages/dynesty/dynesty.py:910\u001b[0m, in \u001b[0;36m_function_wrapper.__call__\u001b[0;34m(self, x)\u001b[0m\n\u001b[1;32m    902\u001b[0m \u001b[38;5;28;01mdef\u001b[39;00m \u001b[38;5;21m__call__\u001b[39m(\u001b[38;5;28mself\u001b[39m, x):\n\u001b[1;32m    903\u001b[0m     \u001b[38;5;28;01mtry\u001b[39;00m:\n\u001b[1;32m    904\u001b[0m         \u001b[38;5;66;03m# IMPORTANT\u001b[39;00m\n\u001b[1;32m    905\u001b[0m         \u001b[38;5;66;03m# Here we make a copy if the input vector just to ensure\u001b[39;00m\n\u001b[0;32m   (...)\u001b[0m\n\u001b[1;32m    908\u001b[0m         \u001b[38;5;66;03m# This comes at performance cost, but it's worthwhile\u001b[39;00m\n\u001b[1;32m    909\u001b[0m         \u001b[38;5;66;03m# as it may lead to hard to diagnose weird behaviour\u001b[39;00m\n\u001b[0;32m--> 910\u001b[0m         \u001b[38;5;28;01mreturn\u001b[39;00m \u001b[38;5;28;43mself\u001b[39;49m\u001b[38;5;241;43m.\u001b[39;49m\u001b[43mfunc\u001b[49m\u001b[43m(\u001b[49m\u001b[43mnp\u001b[49m\u001b[38;5;241;43m.\u001b[39;49m\u001b[43masarray\u001b[49m\u001b[43m(\u001b[49m\u001b[43mx\u001b[49m\u001b[43m)\u001b[49m\u001b[38;5;241;43m.\u001b[39;49m\u001b[43mcopy\u001b[49m\u001b[43m(\u001b[49m\u001b[43m)\u001b[49m\u001b[43m,\u001b[49m\u001b[43m \u001b[49m\u001b[38;5;241;43m*\u001b[39;49m\u001b[38;5;28;43mself\u001b[39;49m\u001b[38;5;241;43m.\u001b[39;49m\u001b[43margs\u001b[49m\u001b[43m,\u001b[49m\u001b[43m \u001b[49m\u001b[38;5;241;43m*\u001b[39;49m\u001b[38;5;241;43m*\u001b[39;49m\u001b[38;5;28;43mself\u001b[39;49m\u001b[38;5;241;43m.\u001b[39;49m\u001b[43mkwargs\u001b[49m\u001b[43m)\u001b[49m\n\u001b[1;32m    911\u001b[0m     \u001b[38;5;28;01mexcept\u001b[39;00m:  \u001b[38;5;66;03m# noqa\u001b[39;00m\n\u001b[1;32m    912\u001b[0m         \u001b[38;5;28mprint\u001b[39m(\u001b[38;5;124mf\u001b[39m\u001b[38;5;124m\"\u001b[39m\u001b[38;5;124mException while calling \u001b[39m\u001b[38;5;132;01m{\u001b[39;00m\u001b[38;5;28mself\u001b[39m\u001b[38;5;241m.\u001b[39mname\u001b[38;5;132;01m}\u001b[39;00m\u001b[38;5;124m function:\u001b[39m\u001b[38;5;124m\"\u001b[39m)\n",
      "\u001b[0;31mKeyboardInterrupt\u001b[0m: "
     ]
    }
   ],
   "source": [
    "res_1 = sup.run_nested_sampling(logL1, print_progress=True)\n",
    "res_2 = sup.run_nested_sampling(logL2, print_progress=True)"
   ]
  },
  {
   "cell_type": "markdown",
   "metadata": {},
   "source": [
    "**KLD value**"
   ]
  },
  {
   "cell_type": "code",
   "execution_count": 8,
   "metadata": {},
   "outputs": [
    {
     "ename": "NameError",
     "evalue": "name 'res_2' is not defined",
     "output_type": "error",
     "traceback": [
      "\u001b[0;31m---------------------------------------------------------------------------\u001b[0m",
      "\u001b[0;31mNameError\u001b[0m                                 Traceback (most recent call last)",
      "Cell \u001b[0;32mIn[8], line 1\u001b[0m\n\u001b[0;32m----> 1\u001b[0m KLD_value \u001b[38;5;241m=\u001b[39m sup\u001b[38;5;241m.\u001b[39mKLD_numerical(\u001b[43mres_2\u001b[49m, logL2, res_1, logL1)\n\u001b[1;32m      2\u001b[0m \u001b[38;5;28mprint\u001b[39m(\u001b[38;5;124m\"\u001b[39m\u001b[38;5;124mKLD(p2|p1) = \u001b[39m\u001b[38;5;132;01m{:.2f}\u001b[39;00m\u001b[38;5;124m nats\u001b[39m\u001b[38;5;124m\"\u001b[39m\u001b[38;5;241m.\u001b[39mformat(KLD_value))\n",
      "\u001b[0;31mNameError\u001b[0m: name 'res_2' is not defined"
     ]
    }
   ],
   "source": [
    "KLD_value = sup.KLD_numerical(res_2, logL2, res_1, logL1)\n",
    "print(\"KLD(p2|p1) = {:.2f} nats\".format(KLD_value))"
   ]
  },
  {
   "cell_type": "markdown",
   "metadata": {},
   "source": [
    "## Main routine"
   ]
  },
  {
   "cell_type": "code",
   "execution_count": 20,
   "metadata": {},
   "outputs": [
    {
     "name": "stdout",
     "output_type": "stream",
     "text": [
      "----------------------------------------------------------------------\n",
      "Loading posterior data\n",
      "----------------------------------------------------------------------\n",
      "Data loaded sucessfully!\n",
      "----------------------------------------------------------------------\n",
      "Loading posterior data\n",
      "----------------------------------------------------------------------\n",
      "Data loaded sucessfully!\n",
      "Evaluating theory from sample distribution p1\n"
     ]
    },
    {
     "data": {
      "application/vnd.jupyter.widget-view+json": {
       "model_id": "1d0c6f227cf142daa708715bce1d8c40",
       "version_major": 2,
       "version_minor": 0
      },
      "text/plain": [
       "Generating theory vectors:   0%|          | 0/1 [00:00<?, ?it/s]"
      ]
     },
     "metadata": {},
     "output_type": "display_data"
    },
    {
     "name": "stdout",
     "output_type": "stream",
     "text": [
      "Sampling the Posterior Predictive Distribution...\n"
     ]
    },
    {
     "data": {
      "application/vnd.jupyter.widget-view+json": {
       "model_id": "8829cb69c73c4b2cbd79449c25a1e09a",
       "version_major": 2,
       "version_minor": 0
      },
      "text/plain": [
       "Sampling PPD:   0%|          | 0/1 [00:00<?, ?it/s]"
      ]
     },
     "metadata": {},
     "output_type": "display_data"
    }
   ],
   "source": [
    "sup = kls.surprise_statistics(logL1, F, covariance_matrix_2=C,\n",
    "                               domain=domain, data_2=D2_fid,\n",
    "                               data_1_name = \"NS_res_1.pkl\",\n",
    "                               data_2_name = \"NS_res_2.pkl\",\n",
    "                               init_NS = True, Nppd = 4)\n",
    "sup.__initialize_NS__()\n",
    "sup.__initialize_PPD__(1)"
   ]
  },
  {
   "cell_type": "code",
   "execution_count": 23,
   "metadata": {},
   "outputs": [
    {
     "name": "stdout",
     "output_type": "stream",
     "text": [
      "[0.59060407 1.9428009  1.4251133  1.800309   2.31291    0.58532536\n",
      " 1.222898  ]\n",
      "[-0.95229404  0.96461367]\n"
     ]
    },
    {
     "data": {
      "text/plain": [
       "Array(-53.519775, dtype=float32)"
      ]
     },
     "execution_count": 23,
     "metadata": {},
     "output_type": "execute_result"
    }
   ],
   "source": [
    "sample = jnp.array(sup.PPD_chain[0])\n",
    "# sup.kld_worker(sample)\n",
    "\n",
    "\n",
    "theta_sample = jnp.array(sup.res_1.samples_equal()[131])\n",
    "theta_sample = sup.res_1.samples_equal()[131]\n",
    "print(sample)\n",
    "print(theta_sample)\n",
    "\n",
    "sup.data_2_model_fun(theta_sample)\n",
    "theta_sample.shape\n",
    "sup.logL2(theta_sample, sup.data_2)"
   ]
  },
  {
   "cell_type": "markdown",
   "metadata": {},
   "source": [
    "## Debuging kld workr"
   ]
  },
  {
   "cell_type": "code",
   "execution_count": 29,
   "metadata": {},
   "outputs": [],
   "source": [
    "def kld_worker(sample, logL_mock = None, mock1_NS_result= None, logP_1=None, ndim=None, \n",
    "            prior_transform='flat', n_effective = 20000, clip_range = [-1e16, 50000]):\n",
    "\n",
    "    if (ndim is None):\n",
    "        ndim = sup.ndim\n",
    "    if logL_mock is None:\n",
    "        logL_mock = sup.logL2\n",
    "    if mock1_NS_result is None:\n",
    "        mock1_NS_result = sup.res_1 \n",
    "\n",
    "    # create mock data and run nested sampling\n",
    "    # @jit\n",
    "    def logpMock_2(theta):\n",
    "        return logL_mock(theta, sample) # create full posterior distribution 2\n",
    "    results2 = sup.run_nested_sampling(logpMock_2, ndim=ndim, prior_transform=prior_transform, \n",
    "                                    domain=sup.domain, n_effective=n_effective, print_progress=True) # functions arguments are the best for SNIa chain.\n",
    "    if logP_1 is None:\n",
    "        print(\"Please make sure the log-posterior of data-1 is a valid function for MCMC mode!\")\n",
    "    \n",
    "    kld_return = sup.KLD_numerical(results2, logpMock_2, mock1_NS_result, logQ=sup.logL1, domain = sup.domain, prior_transform=prior_transform,\n",
    "                                clip_range = clip_range, clip_values = True, progress=False, batch_size = 1000)\n",
    "        \n",
    "    return kld_return, sample\n"
   ]
  },
  {
   "cell_type": "code",
   "execution_count": 32,
   "metadata": {},
   "outputs": [
    {
     "name": "stderr",
     "output_type": "stream",
     "text": [
      "8539it [00:20, 409.55it/s, batch: 3 | bound: 3 | nc: 1 | ncall: 49663 | eff(%): 15.459 | loglstar: -6.587 < -3.935 < -4.136 | logz: -8.150 +/-  0.067 | stop:  0.929]             \n"
     ]
    },
    {
     "ename": "TracerArrayConversionError",
     "evalue": "The numpy.ndarray conversion method __array__() was called on traced array with shape float32[2].\nThe error occurred while tracing the function logP_norm at /home/prm/klsurprise/klsurprise.py:353 for jit. This concrete value was not available in Python because it depends on the value of the argument x.\nSee https://jax.readthedocs.io/en/latest/errors.html#jax.errors.TracerArrayConversionError",
     "output_type": "error",
     "traceback": [
      "\u001b[0;31m---------------------------------------------------------------------------\u001b[0m",
      "\u001b[0;31mTracerArrayConversionError\u001b[0m                Traceback (most recent call last)",
      "Cell \u001b[0;32mIn[32], line 12\u001b[0m\n\u001b[1;32m      8\u001b[0m     \u001b[38;5;28;01mreturn\u001b[39;00m logL_mock(theta, sample) \u001b[38;5;66;03m# create full posterior distribution 2\u001b[39;00m\n\u001b[1;32m      9\u001b[0m results2 \u001b[38;5;241m=\u001b[39m sup\u001b[38;5;241m.\u001b[39mrun_nested_sampling(logpMock_2, ndim\u001b[38;5;241m=\u001b[39mndim, prior_transform\u001b[38;5;241m=\u001b[39m\u001b[38;5;124m\"\u001b[39m\u001b[38;5;124mflat\u001b[39m\u001b[38;5;124m\"\u001b[39m, \n\u001b[1;32m     10\u001b[0m                                 domain\u001b[38;5;241m=\u001b[39msup\u001b[38;5;241m.\u001b[39mdomain, n_effective\u001b[38;5;241m=\u001b[39m\u001b[38;5;241m5000\u001b[39m, print_progress\u001b[38;5;241m=\u001b[39m\u001b[38;5;28;01mTrue\u001b[39;00m) \u001b[38;5;66;03m# functions arguments are the best for SNIa chain.\u001b[39;00m\n\u001b[0;32m---> 12\u001b[0m kld_return \u001b[38;5;241m=\u001b[39m \u001b[43msup\u001b[49m\u001b[38;5;241;43m.\u001b[39;49m\u001b[43mKLD_numerical\u001b[49m\u001b[43m(\u001b[49m\u001b[43mresults2\u001b[49m\u001b[43m,\u001b[49m\u001b[43m \u001b[49m\u001b[43mlogpMock_2\u001b[49m\u001b[43m,\u001b[49m\u001b[43m \u001b[49m\u001b[43mmock1_NS_result\u001b[49m\u001b[43m,\u001b[49m\u001b[43m \u001b[49m\u001b[43mlogQ\u001b[49m\u001b[38;5;241;43m=\u001b[39;49m\u001b[43msup\u001b[49m\u001b[38;5;241;43m.\u001b[39;49m\u001b[43mlogL1\u001b[49m\u001b[43m,\u001b[49m\u001b[43m \u001b[49m\u001b[43mdomain\u001b[49m\u001b[43m \u001b[49m\u001b[38;5;241;43m=\u001b[39;49m\u001b[43m \u001b[49m\u001b[43msup\u001b[49m\u001b[38;5;241;43m.\u001b[39;49m\u001b[43mdomain\u001b[49m\u001b[43m,\u001b[49m\u001b[43m \u001b[49m\u001b[43mprior_transform\u001b[49m\u001b[38;5;241;43m=\u001b[39;49m\u001b[38;5;124;43m\"\u001b[39;49m\u001b[38;5;124;43mflat\u001b[39;49m\u001b[38;5;124;43m\"\u001b[39;49m\u001b[43m,\u001b[49m\u001b[43m \u001b[49m\u001b[43mprogress\u001b[49m\u001b[38;5;241;43m=\u001b[39;49m\u001b[38;5;28;43;01mFalse\u001b[39;49;00m\u001b[43m,\u001b[49m\u001b[43m \u001b[49m\u001b[43mbatch_size\u001b[49m\u001b[43m \u001b[49m\u001b[38;5;241;43m=\u001b[39;49m\u001b[43m \u001b[49m\u001b[38;5;241;43m1000\u001b[39;49m\u001b[43m)\u001b[49m\n",
      "File \u001b[0;32m~/klsurprise/klsurprise.py:364\u001b[0m, in \u001b[0;36msurprise_statistics.KLD_numerical\u001b[0;34m(self, res_p, logP, res_q, logQ, domain, clip_range, clip_values, progress, batch_size, prior_transform)\u001b[0m\n\u001b[1;32m    361\u001b[0m     \u001b[38;5;28;01mreturn\u001b[39;00m logQ(x) \u001b[38;5;241m-\u001b[39m logZq \n\u001b[1;32m    363\u001b[0m \u001b[38;5;66;03m# Process the samples to obtain normalized log-probabilities\u001b[39;00m\n\u001b[0;32m--> 364\u001b[0m log_prob_p \u001b[38;5;241m=\u001b[39m \u001b[38;5;28mself\u001b[39m\u001b[38;5;241m.\u001b[39mprocess_batch(logP_norm, samples_p, progress\u001b[38;5;241m=\u001b[39mprogress, batch_size\u001b[38;5;241m=\u001b[39mbatch_size)\n\u001b[1;32m    365\u001b[0m log_prob_q \u001b[38;5;241m=\u001b[39m \u001b[38;5;28mself\u001b[39m\u001b[38;5;241m.\u001b[39mprocess_batch(logQ_norm, samples_p, progress\u001b[38;5;241m=\u001b[39mprogress, batch_size\u001b[38;5;241m=\u001b[39mbatch_size)\n\u001b[1;32m    367\u001b[0m \u001b[38;5;66;03m# Clip values to avoid overflow if specified\u001b[39;00m\n",
      "File \u001b[0;32m~/klsurprise/klsurprise.py:289\u001b[0m, in \u001b[0;36msurprise_statistics.process_batch\u001b[0;34m(self, logpost, parameter_array, batch_size, progress)\u001b[0m\n\u001b[1;32m    287\u001b[0m     batch_coords \u001b[38;5;241m=\u001b[39m flat_coordinates[i:i \u001b[38;5;241m+\u001b[39m batch_size]\n\u001b[1;32m    288\u001b[0m     \u001b[38;5;66;03m# Apply the vectorized logpost function to the batch and store the results\u001b[39;00m\n\u001b[0;32m--> 289\u001b[0m     logpost_matrix\u001b[38;5;241m.\u001b[39mappend(\u001b[43mvmap_logpost\u001b[49m\u001b[43m(\u001b[49m\u001b[43mbatch_coords\u001b[49m\u001b[43m)\u001b[49m)\n\u001b[1;32m    291\u001b[0m \u001b[38;5;66;03m# Concatenate the results from all batches into a single array\u001b[39;00m\n\u001b[1;32m    292\u001b[0m logpost_matrix \u001b[38;5;241m=\u001b[39m jnp\u001b[38;5;241m.\u001b[39mconcatenate(logpost_matrix)\n",
      "    \u001b[0;31m[... skipping hidden 15 frame]\u001b[0m\n",
      "File \u001b[0;32m~/klsurprise/klsurprise.py:355\u001b[0m, in \u001b[0;36mlogP_norm\u001b[0;34m(x)\u001b[0m\n\u001b[1;32m    354\u001b[0m \u001b[38;5;28;01mdef\u001b[39;00m \u001b[38;5;21mlogP_norm\u001b[39m(x):\n\u001b[0;32m--> 355\u001b[0m     \u001b[38;5;28;01mreturn\u001b[39;00m logP(x) \u001b[38;5;241m-\u001b[39m logZp\n",
      "Cell \u001b[0;32mIn[32], line 8\u001b[0m, in \u001b[0;36mlogpMock_2\u001b[0;34m(theta)\u001b[0m\n\u001b[1;32m      7\u001b[0m \u001b[38;5;28;01mdef\u001b[39;00m \u001b[38;5;21mlogpMock_2\u001b[39m(theta):\n\u001b[0;32m----> 8\u001b[0m     \u001b[38;5;28;01mreturn\u001b[39;00m \u001b[43mlogL_mock\u001b[49m\u001b[43m(\u001b[49m\u001b[43mtheta\u001b[49m\u001b[43m,\u001b[49m\u001b[43m \u001b[49m\u001b[43msample\u001b[49m\u001b[43m)\u001b[49m\n",
      "File \u001b[0;32m~/klsurprise/klsurprise.py:106\u001b[0m, in \u001b[0;36msurprise_statistics.logL2\u001b[0;34m(self, theta, D)\u001b[0m\n\u001b[1;32m     95\u001b[0m \u001b[38;5;250m\u001b[39m\u001b[38;5;124;03m\"\"\"\u001b[39;00m\n\u001b[1;32m     96\u001b[0m \u001b[38;5;124;03mCompute the log-likelihood of theta for the multivariate normal distribution.\u001b[39;00m\n\u001b[1;32m     97\u001b[0m \u001b[38;5;124;03m\u001b[39;00m\n\u001b[0;32m   (...)\u001b[0m\n\u001b[1;32m    103\u001b[0m \u001b[38;5;124;03m- The log-likelihood of theta, D.\u001b[39;00m\n\u001b[1;32m    104\u001b[0m \u001b[38;5;124;03m\"\"\"\u001b[39;00m\n\u001b[1;32m    105\u001b[0m n \u001b[38;5;241m=\u001b[39m D\u001b[38;5;241m.\u001b[39mshape[\u001b[38;5;241m0\u001b[39m]\n\u001b[0;32m--> 106\u001b[0m diff \u001b[38;5;241m=\u001b[39m \u001b[38;5;28;43mself\u001b[39;49m\u001b[38;5;241;43m.\u001b[39;49m\u001b[43mdata_2_model_fun\u001b[49m\u001b[43m(\u001b[49m\u001b[43mtheta\u001b[49m\u001b[43m)\u001b[49m \u001b[38;5;241m-\u001b[39m D\n\u001b[1;32m    107\u001b[0m \u001b[38;5;66;03m# Solve the triangular system using the Cholesky factor\u001b[39;00m\n\u001b[1;32m    108\u001b[0m solve \u001b[38;5;241m=\u001b[39m solve_triangular(\u001b[38;5;28mself\u001b[39m\u001b[38;5;241m.\u001b[39mchol_cov_2, diff, lower\u001b[38;5;241m=\u001b[39m\u001b[38;5;28;01mTrue\u001b[39;00m)\n",
      "Cell \u001b[0;32mIn[17], line 35\u001b[0m, in \u001b[0;36mF\u001b[0;34m(theta)\u001b[0m\n\u001b[1;32m     34\u001b[0m \u001b[38;5;28;01mdef\u001b[39;00m \u001b[38;5;21mF\u001b[39m(theta):\n\u001b[0;32m---> 35\u001b[0m     \u001b[38;5;28;01mreturn\u001b[39;00m F0 \u001b[38;5;241m+\u001b[39m \u001b[43mnp\u001b[49m\u001b[38;5;241;43m.\u001b[39;49m\u001b[43mdot\u001b[49m\u001b[43m(\u001b[49m\u001b[43mM\u001b[49m\u001b[43m,\u001b[49m\u001b[43m \u001b[49m\u001b[43mtheta\u001b[49m\u001b[43m)\u001b[49m\n",
      "File \u001b[0;32m~/anaconda3/envs/surprise/lib/python3.10/site-packages/jax/_src/core.py:640\u001b[0m, in \u001b[0;36mTracer.__array__\u001b[0;34m(self, *args, **kw)\u001b[0m\n\u001b[1;32m    639\u001b[0m \u001b[38;5;28;01mdef\u001b[39;00m \u001b[38;5;21m__array__\u001b[39m(\u001b[38;5;28mself\u001b[39m, \u001b[38;5;241m*\u001b[39margs, \u001b[38;5;241m*\u001b[39m\u001b[38;5;241m*\u001b[39mkw):\n\u001b[0;32m--> 640\u001b[0m   \u001b[38;5;28;01mraise\u001b[39;00m TracerArrayConversionError(\u001b[38;5;28mself\u001b[39m)\n",
      "\u001b[0;31mTracerArrayConversionError\u001b[0m: The numpy.ndarray conversion method __array__() was called on traced array with shape float32[2].\nThe error occurred while tracing the function logP_norm at /home/prm/klsurprise/klsurprise.py:353 for jit. This concrete value was not available in Python because it depends on the value of the argument x.\nSee https://jax.readthedocs.io/en/latest/errors.html#jax.errors.TracerArrayConversionError"
     ]
    }
   ],
   "source": [
    "ndim = sup.ndim\n",
    "logL_mock = sup.logL2\n",
    "mock1_NS_result = sup.res_1 \n",
    "\n",
    "# create mock data and run nested sampling\n",
    "# @jit\n",
    "def logpMock_2(theta):\n",
    "    return logL_mock(theta, sample) # create full posterior distribution 2\n",
    "results2 = sup.run_nested_sampling(logpMock_2, ndim=ndim, prior_transform=\"flat\", \n",
    "                                domain=sup.domain, n_effective=5000, print_progress=True) # functions arguments are the best for SNIa chain.\n",
    "\n",
    "kld_return = sup.KLD_numerical(results2, logpMock_2, mock1_NS_result, logQ=sup.logL1, domain = sup.domain,\n",
    "                                prior_transform=\"flat\", progress=False, batch_size = 1000)"
   ]
  },
  {
   "cell_type": "code",
   "execution_count": 36,
   "metadata": {},
   "outputs": [
    {
     "ename": "TracerArrayConversionError",
     "evalue": "The numpy.ndarray conversion method __array__() was called on traced array with shape float32[2].\nThe error occurred while tracing the function logpMock_2 at /tmp/ipykernel_25518/3978497871.py:1 for jit. This concrete value was not available in Python because it depends on the value of the argument theta.\nSee https://jax.readthedocs.io/en/latest/errors.html#jax.errors.TracerArrayConversionError",
     "output_type": "error",
     "traceback": [
      "\u001b[0;31m---------------------------------------------------------------------------\u001b[0m",
      "\u001b[0;31mTracerArrayConversionError\u001b[0m                Traceback (most recent call last)",
      "Cell \u001b[0;32mIn[36], line 4\u001b[0m\n\u001b[1;32m      1\u001b[0m \u001b[38;5;129m@jit\u001b[39m\n\u001b[1;32m      2\u001b[0m \u001b[38;5;28;01mdef\u001b[39;00m \u001b[38;5;21mlogpMock_2\u001b[39m(theta):\n\u001b[1;32m      3\u001b[0m     \u001b[38;5;28;01mreturn\u001b[39;00m logL_mock(theta, sample) \u001b[38;5;66;03m# create full posterior distribution 2\u001b[39;00m\n\u001b[0;32m----> 4\u001b[0m kld_return \u001b[38;5;241m=\u001b[39m \u001b[43msup\u001b[49m\u001b[38;5;241;43m.\u001b[39;49m\u001b[43mKLD_numerical\u001b[49m\u001b[43m(\u001b[49m\u001b[43mresults2\u001b[49m\u001b[43m,\u001b[49m\u001b[43m \u001b[49m\u001b[43mlogpMock_2\u001b[49m\u001b[43m,\u001b[49m\u001b[43m \u001b[49m\u001b[43mmock1_NS_result\u001b[49m\u001b[43m,\u001b[49m\u001b[43m \u001b[49m\u001b[43mlogQ\u001b[49m\u001b[38;5;241;43m=\u001b[39;49m\u001b[43msup\u001b[49m\u001b[38;5;241;43m.\u001b[39;49m\u001b[43mlogL1\u001b[49m\u001b[43m,\u001b[49m\u001b[43m \u001b[49m\u001b[43mdomain\u001b[49m\u001b[43m \u001b[49m\u001b[38;5;241;43m=\u001b[39;49m\u001b[43m \u001b[49m\u001b[43msup\u001b[49m\u001b[38;5;241;43m.\u001b[39;49m\u001b[43mdomain\u001b[49m\u001b[43m,\u001b[49m\n\u001b[1;32m      5\u001b[0m \u001b[43m                                \u001b[49m\u001b[43mprior_transform\u001b[49m\u001b[38;5;241;43m=\u001b[39;49m\u001b[38;5;124;43m\"\u001b[39;49m\u001b[38;5;124;43mflat\u001b[39;49m\u001b[38;5;124;43m\"\u001b[39;49m\u001b[43m,\u001b[49m\u001b[43m \u001b[49m\u001b[43mprogress\u001b[49m\u001b[38;5;241;43m=\u001b[39;49m\u001b[38;5;28;43;01mFalse\u001b[39;49;00m\u001b[43m,\u001b[49m\u001b[43m \u001b[49m\u001b[43mbatch_size\u001b[49m\u001b[43m \u001b[49m\u001b[38;5;241;43m=\u001b[39;49m\u001b[43m \u001b[49m\u001b[38;5;241;43m1000\u001b[39;49m\u001b[43m)\u001b[49m\n",
      "File \u001b[0;32m~/klsurprise/klsurprise.py:364\u001b[0m, in \u001b[0;36msurprise_statistics.KLD_numerical\u001b[0;34m(self, res_p, logP, res_q, logQ, domain, clip_range, clip_values, progress, batch_size, prior_transform)\u001b[0m\n\u001b[1;32m    361\u001b[0m     \u001b[38;5;28;01mreturn\u001b[39;00m logQ(x) \u001b[38;5;241m-\u001b[39m logZq \n\u001b[1;32m    363\u001b[0m \u001b[38;5;66;03m# Process the samples to obtain normalized log-probabilities\u001b[39;00m\n\u001b[0;32m--> 364\u001b[0m log_prob_p \u001b[38;5;241m=\u001b[39m \u001b[38;5;28mself\u001b[39m\u001b[38;5;241m.\u001b[39mprocess_batch(logP_norm, samples_p, progress\u001b[38;5;241m=\u001b[39mprogress, batch_size\u001b[38;5;241m=\u001b[39mbatch_size)\n\u001b[1;32m    365\u001b[0m log_prob_q \u001b[38;5;241m=\u001b[39m \u001b[38;5;28mself\u001b[39m\u001b[38;5;241m.\u001b[39mprocess_batch(logQ_norm, samples_p, progress\u001b[38;5;241m=\u001b[39mprogress, batch_size\u001b[38;5;241m=\u001b[39mbatch_size)\n\u001b[1;32m    367\u001b[0m \u001b[38;5;66;03m# Clip values to avoid overflow if specified\u001b[39;00m\n",
      "File \u001b[0;32m~/klsurprise/klsurprise.py:289\u001b[0m, in \u001b[0;36msurprise_statistics.process_batch\u001b[0;34m(self, logpost, parameter_array, batch_size, progress)\u001b[0m\n\u001b[1;32m    287\u001b[0m     batch_coords \u001b[38;5;241m=\u001b[39m flat_coordinates[i:i \u001b[38;5;241m+\u001b[39m batch_size]\n\u001b[1;32m    288\u001b[0m     \u001b[38;5;66;03m# Apply the vectorized logpost function to the batch and store the results\u001b[39;00m\n\u001b[0;32m--> 289\u001b[0m     logpost_matrix\u001b[38;5;241m.\u001b[39mappend(\u001b[43mvmap_logpost\u001b[49m\u001b[43m(\u001b[49m\u001b[43mbatch_coords\u001b[49m\u001b[43m)\u001b[49m)\n\u001b[1;32m    291\u001b[0m \u001b[38;5;66;03m# Concatenate the results from all batches into a single array\u001b[39;00m\n\u001b[1;32m    292\u001b[0m logpost_matrix \u001b[38;5;241m=\u001b[39m jnp\u001b[38;5;241m.\u001b[39mconcatenate(logpost_matrix)\n",
      "    \u001b[0;31m[... skipping hidden 15 frame]\u001b[0m\n",
      "File \u001b[0;32m~/klsurprise/klsurprise.py:355\u001b[0m, in \u001b[0;36mlogP_norm\u001b[0;34m(x)\u001b[0m\n\u001b[1;32m    354\u001b[0m \u001b[38;5;28;01mdef\u001b[39;00m \u001b[38;5;21mlogP_norm\u001b[39m(x):\n\u001b[0;32m--> 355\u001b[0m     \u001b[38;5;28;01mreturn\u001b[39;00m logP(x) \u001b[38;5;241m-\u001b[39m logZp\n",
      "    \u001b[0;31m[... skipping hidden 12 frame]\u001b[0m\n",
      "Cell \u001b[0;32mIn[36], line 3\u001b[0m, in \u001b[0;36mlogpMock_2\u001b[0;34m(theta)\u001b[0m\n\u001b[1;32m      1\u001b[0m \u001b[38;5;129m@jit\u001b[39m\n\u001b[1;32m      2\u001b[0m \u001b[38;5;28;01mdef\u001b[39;00m \u001b[38;5;21mlogpMock_2\u001b[39m(theta):\n\u001b[0;32m----> 3\u001b[0m     \u001b[38;5;28;01mreturn\u001b[39;00m \u001b[43mlogL_mock\u001b[49m\u001b[43m(\u001b[49m\u001b[43mtheta\u001b[49m\u001b[43m,\u001b[49m\u001b[43m \u001b[49m\u001b[43msample\u001b[49m\u001b[43m)\u001b[49m\n",
      "File \u001b[0;32m~/klsurprise/klsurprise.py:106\u001b[0m, in \u001b[0;36msurprise_statistics.logL2\u001b[0;34m(self, theta, D)\u001b[0m\n\u001b[1;32m     95\u001b[0m \u001b[38;5;250m\u001b[39m\u001b[38;5;124;03m\"\"\"\u001b[39;00m\n\u001b[1;32m     96\u001b[0m \u001b[38;5;124;03mCompute the log-likelihood of theta for the multivariate normal distribution.\u001b[39;00m\n\u001b[1;32m     97\u001b[0m \u001b[38;5;124;03m\u001b[39;00m\n\u001b[0;32m   (...)\u001b[0m\n\u001b[1;32m    103\u001b[0m \u001b[38;5;124;03m- The log-likelihood of theta, D.\u001b[39;00m\n\u001b[1;32m    104\u001b[0m \u001b[38;5;124;03m\"\"\"\u001b[39;00m\n\u001b[1;32m    105\u001b[0m n \u001b[38;5;241m=\u001b[39m D\u001b[38;5;241m.\u001b[39mshape[\u001b[38;5;241m0\u001b[39m]\n\u001b[0;32m--> 106\u001b[0m diff \u001b[38;5;241m=\u001b[39m \u001b[38;5;28;43mself\u001b[39;49m\u001b[38;5;241;43m.\u001b[39;49m\u001b[43mdata_2_model_fun\u001b[49m\u001b[43m(\u001b[49m\u001b[43mtheta\u001b[49m\u001b[43m)\u001b[49m \u001b[38;5;241m-\u001b[39m D\n\u001b[1;32m    107\u001b[0m \u001b[38;5;66;03m# Solve the triangular system using the Cholesky factor\u001b[39;00m\n\u001b[1;32m    108\u001b[0m solve \u001b[38;5;241m=\u001b[39m solve_triangular(\u001b[38;5;28mself\u001b[39m\u001b[38;5;241m.\u001b[39mchol_cov_2, diff, lower\u001b[38;5;241m=\u001b[39m\u001b[38;5;28;01mTrue\u001b[39;00m)\n",
      "Cell \u001b[0;32mIn[17], line 35\u001b[0m, in \u001b[0;36mF\u001b[0;34m(theta)\u001b[0m\n\u001b[1;32m     34\u001b[0m \u001b[38;5;28;01mdef\u001b[39;00m \u001b[38;5;21mF\u001b[39m(theta):\n\u001b[0;32m---> 35\u001b[0m     \u001b[38;5;28;01mreturn\u001b[39;00m F0 \u001b[38;5;241m+\u001b[39m \u001b[43mnp\u001b[49m\u001b[38;5;241;43m.\u001b[39;49m\u001b[43mdot\u001b[49m\u001b[43m(\u001b[49m\u001b[43mM\u001b[49m\u001b[43m,\u001b[49m\u001b[43m \u001b[49m\u001b[43mtheta\u001b[49m\u001b[43m)\u001b[49m\n",
      "File \u001b[0;32m~/anaconda3/envs/surprise/lib/python3.10/site-packages/jax/_src/core.py:640\u001b[0m, in \u001b[0;36mTracer.__array__\u001b[0;34m(self, *args, **kw)\u001b[0m\n\u001b[1;32m    639\u001b[0m \u001b[38;5;28;01mdef\u001b[39;00m \u001b[38;5;21m__array__\u001b[39m(\u001b[38;5;28mself\u001b[39m, \u001b[38;5;241m*\u001b[39margs, \u001b[38;5;241m*\u001b[39m\u001b[38;5;241m*\u001b[39mkw):\n\u001b[0;32m--> 640\u001b[0m   \u001b[38;5;28;01mraise\u001b[39;00m TracerArrayConversionError(\u001b[38;5;28mself\u001b[39m)\n",
      "\u001b[0;31mTracerArrayConversionError\u001b[0m: The numpy.ndarray conversion method __array__() was called on traced array with shape float32[2].\nThe error occurred while tracing the function logpMock_2 at /tmp/ipykernel_25518/3978497871.py:1 for jit. This concrete value was not available in Python because it depends on the value of the argument theta.\nSee https://jax.readthedocs.io/en/latest/errors.html#jax.errors.TracerArrayConversionError"
     ]
    }
   ],
   "source": [
    "@jit\n",
    "def logpMock_2(theta):\n",
    "    return logL_mock(theta, sample) # create full posterior distribution 2\n",
    "kld_return = sup.KLD_numerical(results2, logpMock_2, mock1_NS_result, logQ=sup.logL1, domain = sup.domain,\n",
    "                                prior_transform=\"flat\", progress=False, batch_size = 1000)"
   ]
  },
  {
   "cell_type": "code",
   "execution_count": null,
   "metadata": {},
   "outputs": [
    {
     "name": "stdout",
     "output_type": "stream",
     "text": [
      "Handling dataset 1...\n",
      "______________________________________________________________________\n",
      "Done!\n",
      "\n",
      "Handling posterior predictive distribution PPD(D2|D1) ...\n",
      "______________________________________________________________________\n",
      "Will sample KLD the same size as PPD.\n",
      "Nkld =  1\n",
      "Handling KLD distribution...\n",
      "______________________________________________________________________\n"
     ]
    },
    {
     "data": {
      "application/vnd.jupyter.widget-view+json": {
       "model_id": "72bcceffbc48404ab49e5c57ed7bce1d",
       "version_major": 2,
       "version_minor": 0
      },
      "text/plain": [
       "Iterating over the PPD:   0%|          | 0/1 [00:00<?, ?it/s]"
      ]
     },
     "metadata": {},
     "output_type": "display_data"
    },
    {
     "ename": "UnboundLocalError",
     "evalue": "local variable 'domain_pass' referenced before assignment",
     "output_type": "error",
     "traceback": [
      "\u001b[0;31m---------------------------------------------------------------------------\u001b[0m\n",
      "\u001b[0;31mUnboundLocalError\u001b[0m                         Traceback (most recent call last)\n",
      "Cell \u001b[0;32mIn[8], line 1\u001b[0m\n",
      "\u001b[0;32m----> 1\u001b[0m res \u001b[38;5;241m=\u001b[39m \u001b[43msup\u001b[49m\u001b[38;5;241;43m.\u001b[39;49m\u001b[43msurprise_function_call\u001b[49m\u001b[43m(\u001b[49m\u001b[38;5;241;43m2\u001b[39;49m\u001b[43m,\u001b[49m\u001b[43m \u001b[49m\u001b[43mn_jobs\u001b[49m\u001b[43m \u001b[49m\u001b[38;5;241;43m=\u001b[39;49m\u001b[43m \u001b[49m\u001b[38;5;241;43m1\u001b[39;49m\u001b[43m)\u001b[49m\n",
      "\n",
      "File \u001b[0;32m~/klsurprise/klsurprise.py:627\u001b[0m, in \u001b[0;36msurprise_statistics.surprise_function_call\u001b[0;34m(self, Nkld, result_path, n_effective, n_jobs, verbose)\u001b[0m\n",
      "\u001b[1;32m    625\u001b[0m \u001b[38;5;28mprint\u001b[39m(\u001b[38;5;124m\"\u001b[39m\u001b[38;5;124mHandling KLD distribution...\u001b[39m\u001b[38;5;124m\"\u001b[39m)\n",
      "\u001b[1;32m    626\u001b[0m \u001b[38;5;28mprint\u001b[39m(\u001b[38;5;241m70\u001b[39m\u001b[38;5;241m*\u001b[39m\u001b[38;5;124m\"\u001b[39m\u001b[38;5;124m_\u001b[39m\u001b[38;5;124m\"\u001b[39m)\n",
      "\u001b[0;32m--> 627\u001b[0m kld_samples \u001b[38;5;241m=\u001b[39m \u001b[38;5;28;43mself\u001b[39;49m\u001b[38;5;241;43m.\u001b[39;49m\u001b[43mcompute_kld_distribution\u001b[49m\u001b[43m(\u001b[49m\u001b[38;5;28;43mself\u001b[39;49m\u001b[38;5;241;43m.\u001b[39;49m\u001b[43mPPD_chain\u001b[49m\u001b[43m,\u001b[49m\u001b[43m \u001b[49m\u001b[38;5;28;43mself\u001b[39;49m\u001b[38;5;241;43m.\u001b[39;49m\u001b[43mlogL2\u001b[49m\u001b[43m,\u001b[49m\u001b[43m \u001b[49m\u001b[38;5;28;43mself\u001b[39;49m\u001b[38;5;241;43m.\u001b[39;49m\u001b[43mres_1\u001b[49m\u001b[43m,\u001b[49m\u001b[43m \u001b[49m\u001b[43mlogP_1\u001b[49m\u001b[38;5;241;43m=\u001b[39;49m\u001b[38;5;28;43mself\u001b[39;49m\u001b[38;5;241;43m.\u001b[39;49m\u001b[43mlogL1\u001b[49m\u001b[43m,\u001b[49m\u001b[43m \u001b[49m\n",
      "\u001b[1;32m    628\u001b[0m \u001b[43m                                            \u001b[49m\u001b[43mdomain\u001b[49m\u001b[38;5;241;43m=\u001b[39;49m\u001b[38;5;28;43mself\u001b[39;49m\u001b[38;5;241;43m.\u001b[39;49m\u001b[43mdomain\u001b[49m\u001b[43m,\u001b[49m\u001b[43m \u001b[49m\u001b[43mn_jobs\u001b[49m\u001b[38;5;241;43m=\u001b[39;49m\u001b[43mn_jobs\u001b[49m\u001b[43m,\u001b[49m\u001b[43m \u001b[49m\u001b[43mn_effective\u001b[49m\u001b[38;5;241;43m=\u001b[39;49m\u001b[43mn_effective\u001b[49m\u001b[43m)\u001b[49m\n",
      "\u001b[1;32m    630\u001b[0m \u001b[38;5;28mprint\u001b[39m(\u001b[38;5;124m\"\u001b[39m\u001b[38;5;124mAble to get here!\u001b[39m\u001b[38;5;124m\"\u001b[39m)\n",
      "\u001b[1;32m    631\u001b[0m kld_array \u001b[38;5;241m=\u001b[39m jnp\u001b[38;5;241m.\u001b[39marray(kld_samples)\n",
      "\n",
      "File \u001b[0;32m~/klsurprise/klsurprise.py:497\u001b[0m, in \u001b[0;36msurprise_statistics.compute_kld_distribution\u001b[0;34m(self, PPDsamples, logL_mock, mock1_NS_result, logP_1, domain, ndim, n_jobs, result_path, prior_transform, n_effective, clip_range)\u001b[0m\n",
      "\u001b[1;32m    494\u001b[0m \u001b[38;5;28;01melse\u001b[39;00m:\n",
      "\u001b[1;32m    495\u001b[0m     domain_pass \u001b[38;5;241m=\u001b[39m domain\n",
      "\u001b[0;32m--> 497\u001b[0m results \u001b[38;5;241m=\u001b[39m \u001b[43mParallel\u001b[49m\u001b[43m(\u001b[49m\u001b[43mn_jobs\u001b[49m\u001b[38;5;241;43m=\u001b[39;49m\u001b[43mn_jobs\u001b[49m\u001b[43m)\u001b[49m\u001b[43m(\u001b[49m\u001b[43mdelayed\u001b[49m\u001b[43m(\u001b[49m\u001b[38;5;28;43mself\u001b[39;49m\u001b[38;5;241;43m.\u001b[39;49m\u001b[43mkld_worker\u001b[49m\u001b[43m)\u001b[49m\n",
      "\u001b[1;32m    498\u001b[0m \u001b[43m                                \u001b[49m\u001b[43m(\u001b[49m\u001b[43msample\u001b[49m\u001b[43m,\u001b[49m\u001b[43m \u001b[49m\u001b[43mlogL_mock\u001b[49m\u001b[43m,\u001b[49m\u001b[43m \u001b[49m\u001b[43mmock1_NS_result\u001b[49m\u001b[43m,\u001b[49m\u001b[43m \u001b[49m\u001b[43mlogP_1\u001b[49m\u001b[43m,\u001b[49m\u001b[43m \u001b[49m\u001b[43mdomain_pass\u001b[49m\u001b[43m,\u001b[49m\u001b[43m \u001b[49m\u001b[43mndim\u001b[49m\u001b[43m,\u001b[49m\u001b[43m \u001b[49m\u001b[43mprior_transform\u001b[49m\u001b[43m,\u001b[49m\u001b[43m \u001b[49m\u001b[43mn_effective\u001b[49m\u001b[43m,\u001b[49m\u001b[43m \u001b[49m\u001b[43mclip_range\u001b[49m\u001b[43m)\u001b[49m\n",
      "\u001b[1;32m    499\u001b[0m \u001b[43m                                \u001b[49m\u001b[38;5;28;43;01mfor\u001b[39;49;00m\u001b[43m \u001b[49m\u001b[43mi\u001b[49m\u001b[43m,\u001b[49m\u001b[43m \u001b[49m\u001b[43msample\u001b[49m\u001b[43m \u001b[49m\u001b[38;5;129;43;01min\u001b[39;49;00m\u001b[43m \u001b[49m\u001b[38;5;28;43menumerate\u001b[39;49m\u001b[43m(\u001b[49m\u001b[43mtqdm\u001b[49m\u001b[43m(\u001b[49m\u001b[43mPPDsamples\u001b[49m\u001b[43m,\u001b[49m\u001b[43m \u001b[49m\u001b[43mdesc\u001b[49m\u001b[38;5;241;43m=\u001b[39;49m\u001b[38;5;124;43m\"\u001b[39;49m\u001b[38;5;124;43mIterating over the PPD\u001b[39;49m\u001b[38;5;124;43m\"\u001b[39;49m\u001b[43m)\u001b[49m\u001b[43m)\u001b[49m\u001b[43m)\u001b[49m\n",
      "\u001b[1;32m    501\u001b[0m \u001b[38;5;28;01mfor\u001b[39;00m kld, ppdsample \u001b[38;5;129;01min\u001b[39;00m results:\n",
      "\u001b[1;32m    502\u001b[0m     kld_results\u001b[38;5;241m.\u001b[39mappend(kld)\n",
      "\n",
      "File \u001b[0;32m~/anaconda3/envs/surprise/lib/python3.10/site-packages/joblib/parallel.py:1863\u001b[0m, in \u001b[0;36mParallel.__call__\u001b[0;34m(self, iterable)\u001b[0m\n",
      "\u001b[1;32m   1861\u001b[0m     output \u001b[38;5;241m=\u001b[39m \u001b[38;5;28mself\u001b[39m\u001b[38;5;241m.\u001b[39m_get_sequential_output(iterable)\n",
      "\u001b[1;32m   1862\u001b[0m     \u001b[38;5;28mnext\u001b[39m(output)\n",
      "\u001b[0;32m-> 1863\u001b[0m     \u001b[38;5;28;01mreturn\u001b[39;00m output \u001b[38;5;28;01mif\u001b[39;00m \u001b[38;5;28mself\u001b[39m\u001b[38;5;241m.\u001b[39mreturn_generator \u001b[38;5;28;01melse\u001b[39;00m \u001b[38;5;28;43mlist\u001b[39;49m\u001b[43m(\u001b[49m\u001b[43moutput\u001b[49m\u001b[43m)\u001b[49m\n",
      "\u001b[1;32m   1865\u001b[0m \u001b[38;5;66;03m# Let's create an ID that uniquely identifies the current call. If the\u001b[39;00m\n",
      "\u001b[1;32m   1866\u001b[0m \u001b[38;5;66;03m# call is interrupted early and that the same instance is immediately\u001b[39;00m\n",
      "\u001b[1;32m   1867\u001b[0m \u001b[38;5;66;03m# re-used, this id will be used to prevent workers that were\u001b[39;00m\n",
      "\u001b[1;32m   1868\u001b[0m \u001b[38;5;66;03m# concurrently finalizing a task from the previous call to run the\u001b[39;00m\n",
      "\u001b[1;32m   1869\u001b[0m \u001b[38;5;66;03m# callback.\u001b[39;00m\n",
      "\u001b[1;32m   1870\u001b[0m \u001b[38;5;28;01mwith\u001b[39;00m \u001b[38;5;28mself\u001b[39m\u001b[38;5;241m.\u001b[39m_lock:\n",
      "\n",
      "File \u001b[0;32m~/anaconda3/envs/surprise/lib/python3.10/site-packages/joblib/parallel.py:1792\u001b[0m, in \u001b[0;36mParallel._get_sequential_output\u001b[0;34m(self, iterable)\u001b[0m\n",
      "\u001b[1;32m   1790\u001b[0m \u001b[38;5;28mself\u001b[39m\u001b[38;5;241m.\u001b[39mn_dispatched_batches \u001b[38;5;241m+\u001b[39m\u001b[38;5;241m=\u001b[39m \u001b[38;5;241m1\u001b[39m\n",
      "\u001b[1;32m   1791\u001b[0m \u001b[38;5;28mself\u001b[39m\u001b[38;5;241m.\u001b[39mn_dispatched_tasks \u001b[38;5;241m+\u001b[39m\u001b[38;5;241m=\u001b[39m \u001b[38;5;241m1\u001b[39m\n",
      "\u001b[0;32m-> 1792\u001b[0m res \u001b[38;5;241m=\u001b[39m \u001b[43mfunc\u001b[49m\u001b[43m(\u001b[49m\u001b[38;5;241;43m*\u001b[39;49m\u001b[43margs\u001b[49m\u001b[43m,\u001b[49m\u001b[43m \u001b[49m\u001b[38;5;241;43m*\u001b[39;49m\u001b[38;5;241;43m*\u001b[39;49m\u001b[43mkwargs\u001b[49m\u001b[43m)\u001b[49m\n",
      "\u001b[1;32m   1793\u001b[0m \u001b[38;5;28mself\u001b[39m\u001b[38;5;241m.\u001b[39mn_completed_tasks \u001b[38;5;241m+\u001b[39m\u001b[38;5;241m=\u001b[39m \u001b[38;5;241m1\u001b[39m\n",
      "\u001b[1;32m   1794\u001b[0m \u001b[38;5;28mself\u001b[39m\u001b[38;5;241m.\u001b[39mprint_progress()\n",
      "\n",
      "File \u001b[0;32m~/klsurprise/klsurprise.py:438\u001b[0m, in \u001b[0;36msurprise_statistics.kld_worker\u001b[0;34m(self, sample, logL_mock, mock1_NS_result, logP_1, domain, ndim, prior_transform, n_effective, clip_range)\u001b[0m\n",
      "\u001b[1;32m    435\u001b[0m \u001b[38;5;66;03m# create mock data and run nested sampling \u001b[39;00m\n",
      "\u001b[1;32m    436\u001b[0m logpMock_2 \u001b[38;5;241m=\u001b[39m \u001b[38;5;28;01mlambda\u001b[39;00m u : logL_mock(u, sample) \u001b[38;5;66;03m# create full posterior distribution 2\u001b[39;00m\n",
      "\u001b[1;32m    437\u001b[0m results2 \u001b[38;5;241m=\u001b[39m \u001b[38;5;28mself\u001b[39m\u001b[38;5;241m.\u001b[39mrun_nested_sampling(logpMock_2, ndim\u001b[38;5;241m=\u001b[39mndim, prior_transform\u001b[38;5;241m=\u001b[39mprior_transform, \n",
      "\u001b[0;32m--> 438\u001b[0m                                 domain\u001b[38;5;241m=\u001b[39m\u001b[43mdomain_pass\u001b[49m, n_effective\u001b[38;5;241m=\u001b[39mn_effective) \u001b[38;5;66;03m# functions arguments are the best for SNIa chain.\u001b[39;00m\n",
      "\u001b[1;32m    439\u001b[0m \u001b[38;5;28;01mif\u001b[39;00m logP_1 \u001b[38;5;129;01mis\u001b[39;00m \u001b[38;5;28;01mNone\u001b[39;00m:\n",
      "\u001b[1;32m    440\u001b[0m     \u001b[38;5;28mprint\u001b[39m(\u001b[38;5;124m\"\u001b[39m\u001b[38;5;124mPlease make sure the log-posterior of data-1 is a valid function for MCMC mode!\u001b[39m\u001b[38;5;124m\"\u001b[39m)\n",
      "\n",
      "\u001b[0;31mUnboundLocalError\u001b[0m: local variable 'domain_pass' referenced before assignment"
     ]
    }
   ],
   "source": [
    "res = sup.surprise_function_call(2, n_jobs = 1)"
   ]
  },
  {
   "cell_type": "code",
   "execution_count": 45,
   "metadata": {},
   "outputs": [
    {
     "ename": "TypeError",
     "evalue": "Cannot interpret value of type <class 'klsurprise.surprise_statistics'> as an abstract array; it does not have a dtype attribute",
     "output_type": "error",
     "traceback": [
      "\u001b[0;31m---------------------------------------------------------------------------\u001b[0m",
      "\u001b[0;31mKeyError\u001b[0m                                  Traceback (most recent call last)",
      "File \u001b[0;32m~/anaconda3/envs/surprise/lib/python3.10/site-packages/jax/_src/api_util.py:583\u001b[0m, in \u001b[0;36mshaped_abstractify\u001b[0;34m(x)\u001b[0m\n\u001b[1;32m    582\u001b[0m \u001b[38;5;28;01mtry\u001b[39;00m:\n\u001b[0;32m--> 583\u001b[0m   \u001b[38;5;28;01mreturn\u001b[39;00m \u001b[43m_shaped_abstractify_handlers\u001b[49m\u001b[43m[\u001b[49m\u001b[38;5;28;43mtype\u001b[39;49m\u001b[43m(\u001b[49m\u001b[43mx\u001b[49m\u001b[43m)\u001b[49m\u001b[43m]\u001b[49m(x)\n\u001b[1;32m    584\u001b[0m \u001b[38;5;28;01mexcept\u001b[39;00m \u001b[38;5;167;01mKeyError\u001b[39;00m:\n",
      "\u001b[0;31mKeyError\u001b[0m: <class 'klsurprise.surprise_statistics'>",
      "\nDuring handling of the above exception, another exception occurred:\n",
      "\u001b[0;31mTypeError\u001b[0m                                 Traceback (most recent call last)",
      "Cell \u001b[0;32mIn[45], line 1\u001b[0m\n\u001b[0;32m----> 1\u001b[0m \u001b[43msup\u001b[49m\u001b[38;5;241;43m.\u001b[39;49m\u001b[43mlogL2\u001b[49m\u001b[43m(\u001b[49m\u001b[43mtheta_sample\u001b[49m\u001b[43m,\u001b[49m\u001b[43m \u001b[49m\u001b[43mjnp\u001b[49m\u001b[38;5;241;43m.\u001b[39;49m\u001b[43marray\u001b[49m\u001b[43m(\u001b[49m\u001b[43msup\u001b[49m\u001b[38;5;241;43m.\u001b[39;49m\u001b[43mdata_2\u001b[49m\u001b[43m)\u001b[49m\u001b[43m)\u001b[49m\n",
      "    \u001b[0;31m[... skipping hidden 6 frame]\u001b[0m\n",
      "File \u001b[0;32m~/anaconda3/envs/surprise/lib/python3.10/site-packages/jax/_src/api_util.py:574\u001b[0m, in \u001b[0;36m_shaped_abstractify_slow\u001b[0;34m(x)\u001b[0m\n\u001b[1;32m    572\u001b[0m   dtype \u001b[38;5;241m=\u001b[39m dtypes\u001b[38;5;241m.\u001b[39mcanonicalize_dtype(x\u001b[38;5;241m.\u001b[39mdtype, allow_extended_dtype\u001b[38;5;241m=\u001b[39m\u001b[38;5;28;01mTrue\u001b[39;00m)\n\u001b[1;32m    573\u001b[0m \u001b[38;5;28;01melse\u001b[39;00m:\n\u001b[0;32m--> 574\u001b[0m   \u001b[38;5;28;01mraise\u001b[39;00m \u001b[38;5;167;01mTypeError\u001b[39;00m(\n\u001b[1;32m    575\u001b[0m       \u001b[38;5;124mf\u001b[39m\u001b[38;5;124m\"\u001b[39m\u001b[38;5;124mCannot interpret value of type \u001b[39m\u001b[38;5;132;01m{\u001b[39;00m\u001b[38;5;28mtype\u001b[39m(x)\u001b[38;5;132;01m}\u001b[39;00m\u001b[38;5;124m as an abstract array; it \u001b[39m\u001b[38;5;124m\"\u001b[39m\n\u001b[1;32m    576\u001b[0m       \u001b[38;5;124m\"\u001b[39m\u001b[38;5;124mdoes not have a dtype attribute\u001b[39m\u001b[38;5;124m\"\u001b[39m)\n\u001b[1;32m    577\u001b[0m \u001b[38;5;28;01mreturn\u001b[39;00m core\u001b[38;5;241m.\u001b[39mShapedArray(np\u001b[38;5;241m.\u001b[39mshape(x), dtype, weak_type\u001b[38;5;241m=\u001b[39mweak_type,\n\u001b[1;32m    578\u001b[0m                         named_shape\u001b[38;5;241m=\u001b[39mnamed_shape)\n",
      "\u001b[0;31mTypeError\u001b[0m: Cannot interpret value of type <class 'klsurprise.surprise_statistics'> as an abstract array; it does not have a dtype attribute"
     ]
    }
   ],
   "source": [
    "sup.logL2(theta_sample, jnp.array(sup.data_2))"
   ]
  },
  {
   "cell_type": "code",
   "execution_count": 29,
   "metadata": {},
   "outputs": [
    {
     "ename": "TypeError",
     "evalue": "Cannot interpret value of type <class 'klsurprise.surprise_statistics'> as an abstract array; it does not have a dtype attribute",
     "output_type": "error",
     "traceback": [
      "\u001b[0;31m---------------------------------------------------------------------------\u001b[0m",
      "\u001b[0;31mKeyError\u001b[0m                                  Traceback (most recent call last)",
      "File \u001b[0;32m~/anaconda3/envs/surprise/lib/python3.10/site-packages/jax/_src/api_util.py:583\u001b[0m, in \u001b[0;36mshaped_abstractify\u001b[0;34m(x)\u001b[0m\n\u001b[1;32m    582\u001b[0m \u001b[38;5;28;01mtry\u001b[39;00m:\n\u001b[0;32m--> 583\u001b[0m   \u001b[38;5;28;01mreturn\u001b[39;00m \u001b[43m_shaped_abstractify_handlers\u001b[49m\u001b[43m[\u001b[49m\u001b[38;5;28;43mtype\u001b[39;49m\u001b[43m(\u001b[49m\u001b[43mx\u001b[49m\u001b[43m)\u001b[49m\u001b[43m]\u001b[49m(x)\n\u001b[1;32m    584\u001b[0m \u001b[38;5;28;01mexcept\u001b[39;00m \u001b[38;5;167;01mKeyError\u001b[39;00m:\n",
      "\u001b[0;31mKeyError\u001b[0m: <class 'klsurprise.surprise_statistics'>",
      "\nDuring handling of the above exception, another exception occurred:\n",
      "\u001b[0;31mTypeError\u001b[0m                                 Traceback (most recent call last)",
      "Cell \u001b[0;32mIn[29], line 1\u001b[0m\n\u001b[0;32m----> 1\u001b[0m \u001b[43msup\u001b[49m\u001b[38;5;241;43m.\u001b[39;49m\u001b[43mlogL2\u001b[49m\u001b[43m(\u001b[49m\u001b[43mtheta_sample\u001b[49m\u001b[43m,\u001b[49m\u001b[43m \u001b[49m\u001b[43msample\u001b[49m\u001b[43m)\u001b[49m \n",
      "    \u001b[0;31m[... skipping hidden 6 frame]\u001b[0m\n",
      "File \u001b[0;32m~/anaconda3/envs/surprise/lib/python3.10/site-packages/jax/_src/api_util.py:574\u001b[0m, in \u001b[0;36m_shaped_abstractify_slow\u001b[0;34m(x)\u001b[0m\n\u001b[1;32m    572\u001b[0m   dtype \u001b[38;5;241m=\u001b[39m dtypes\u001b[38;5;241m.\u001b[39mcanonicalize_dtype(x\u001b[38;5;241m.\u001b[39mdtype, allow_extended_dtype\u001b[38;5;241m=\u001b[39m\u001b[38;5;28;01mTrue\u001b[39;00m)\n\u001b[1;32m    573\u001b[0m \u001b[38;5;28;01melse\u001b[39;00m:\n\u001b[0;32m--> 574\u001b[0m   \u001b[38;5;28;01mraise\u001b[39;00m \u001b[38;5;167;01mTypeError\u001b[39;00m(\n\u001b[1;32m    575\u001b[0m       \u001b[38;5;124mf\u001b[39m\u001b[38;5;124m\"\u001b[39m\u001b[38;5;124mCannot interpret value of type \u001b[39m\u001b[38;5;132;01m{\u001b[39;00m\u001b[38;5;28mtype\u001b[39m(x)\u001b[38;5;132;01m}\u001b[39;00m\u001b[38;5;124m as an abstract array; it \u001b[39m\u001b[38;5;124m\"\u001b[39m\n\u001b[1;32m    576\u001b[0m       \u001b[38;5;124m\"\u001b[39m\u001b[38;5;124mdoes not have a dtype attribute\u001b[39m\u001b[38;5;124m\"\u001b[39m)\n\u001b[1;32m    577\u001b[0m \u001b[38;5;28;01mreturn\u001b[39;00m core\u001b[38;5;241m.\u001b[39mShapedArray(np\u001b[38;5;241m.\u001b[39mshape(x), dtype, weak_type\u001b[38;5;241m=\u001b[39mweak_type,\n\u001b[1;32m    578\u001b[0m                         named_shape\u001b[38;5;241m=\u001b[39mnamed_shape)\n",
      "\u001b[0;31mTypeError\u001b[0m: Cannot interpret value of type <class 'klsurprise.surprise_statistics'> as an abstract array; it does not have a dtype attribute"
     ]
    }
   ],
   "source": [
    "sup.logL2(theta_sample, sample) "
   ]
  },
  {
   "cell_type": "code",
   "execution_count": 28,
   "metadata": {},
   "outputs": [
    {
     "ename": "TypeError",
     "evalue": "Cannot interpret value of type <class 'klsurprise.surprise_statistics'> as an abstract array; it does not have a dtype attribute",
     "output_type": "error",
     "traceback": [
      "\u001b[0;31m---------------------------------------------------------------------------\u001b[0m",
      "\u001b[0;31mKeyError\u001b[0m                                  Traceback (most recent call last)",
      "File \u001b[0;32m~/anaconda3/envs/surprise/lib/python3.10/site-packages/jax/_src/api_util.py:583\u001b[0m, in \u001b[0;36mshaped_abstractify\u001b[0;34m(x)\u001b[0m\n\u001b[1;32m    582\u001b[0m \u001b[38;5;28;01mtry\u001b[39;00m:\n\u001b[0;32m--> 583\u001b[0m   \u001b[38;5;28;01mreturn\u001b[39;00m \u001b[43m_shaped_abstractify_handlers\u001b[49m\u001b[43m[\u001b[49m\u001b[38;5;28;43mtype\u001b[39;49m\u001b[43m(\u001b[49m\u001b[43mx\u001b[49m\u001b[43m)\u001b[49m\u001b[43m]\u001b[49m(x)\n\u001b[1;32m    584\u001b[0m \u001b[38;5;28;01mexcept\u001b[39;00m \u001b[38;5;167;01mKeyError\u001b[39;00m:\n",
      "\u001b[0;31mKeyError\u001b[0m: <class 'klsurprise.surprise_statistics'>",
      "\nDuring handling of the above exception, another exception occurred:\n",
      "\u001b[0;31mTypeError\u001b[0m                                 Traceback (most recent call last)",
      "Cell \u001b[0;32mIn[28], line 6\u001b[0m\n\u001b[1;32m      2\u001b[0m \u001b[38;5;129m@jit\u001b[39m\n\u001b[1;32m      3\u001b[0m \u001b[38;5;28;01mdef\u001b[39;00m \u001b[38;5;21mlogpMock_2\u001b[39m(theta):\n\u001b[1;32m      4\u001b[0m     \u001b[38;5;28;01mreturn\u001b[39;00m sup\u001b[38;5;241m.\u001b[39mlogL2(theta, sample) \u001b[38;5;66;03m# create full posterior distribution 2\u001b[39;00m\n\u001b[0;32m----> 6\u001b[0m \u001b[43mlogpMock_2\u001b[49m\u001b[43m(\u001b[49m\u001b[43mtheta_sample\u001b[49m\u001b[43m)\u001b[49m\n",
      "    \u001b[0;31m[... skipping hidden 12 frame]\u001b[0m\n",
      "Cell \u001b[0;32mIn[28], line 4\u001b[0m, in \u001b[0;36mlogpMock_2\u001b[0;34m(theta)\u001b[0m\n\u001b[1;32m      2\u001b[0m \u001b[38;5;129m@jit\u001b[39m\n\u001b[1;32m      3\u001b[0m \u001b[38;5;28;01mdef\u001b[39;00m \u001b[38;5;21mlogpMock_2\u001b[39m(theta):\n\u001b[0;32m----> 4\u001b[0m     \u001b[38;5;28;01mreturn\u001b[39;00m \u001b[43msup\u001b[49m\u001b[38;5;241;43m.\u001b[39;49m\u001b[43mlogL2\u001b[49m\u001b[43m(\u001b[49m\u001b[43mtheta\u001b[49m\u001b[43m,\u001b[49m\u001b[43m \u001b[49m\u001b[43msample\u001b[49m\u001b[43m)\u001b[49m\n",
      "    \u001b[0;31m[... skipping hidden 6 frame]\u001b[0m\n",
      "File \u001b[0;32m~/anaconda3/envs/surprise/lib/python3.10/site-packages/jax/_src/api_util.py:574\u001b[0m, in \u001b[0;36m_shaped_abstractify_slow\u001b[0;34m(x)\u001b[0m\n\u001b[1;32m    572\u001b[0m   dtype \u001b[38;5;241m=\u001b[39m dtypes\u001b[38;5;241m.\u001b[39mcanonicalize_dtype(x\u001b[38;5;241m.\u001b[39mdtype, allow_extended_dtype\u001b[38;5;241m=\u001b[39m\u001b[38;5;28;01mTrue\u001b[39;00m)\n\u001b[1;32m    573\u001b[0m \u001b[38;5;28;01melse\u001b[39;00m:\n\u001b[0;32m--> 574\u001b[0m   \u001b[38;5;28;01mraise\u001b[39;00m \u001b[38;5;167;01mTypeError\u001b[39;00m(\n\u001b[1;32m    575\u001b[0m       \u001b[38;5;124mf\u001b[39m\u001b[38;5;124m\"\u001b[39m\u001b[38;5;124mCannot interpret value of type \u001b[39m\u001b[38;5;132;01m{\u001b[39;00m\u001b[38;5;28mtype\u001b[39m(x)\u001b[38;5;132;01m}\u001b[39;00m\u001b[38;5;124m as an abstract array; it \u001b[39m\u001b[38;5;124m\"\u001b[39m\n\u001b[1;32m    576\u001b[0m       \u001b[38;5;124m\"\u001b[39m\u001b[38;5;124mdoes not have a dtype attribute\u001b[39m\u001b[38;5;124m\"\u001b[39m)\n\u001b[1;32m    577\u001b[0m \u001b[38;5;28;01mreturn\u001b[39;00m core\u001b[38;5;241m.\u001b[39mShapedArray(np\u001b[38;5;241m.\u001b[39mshape(x), dtype, weak_type\u001b[38;5;241m=\u001b[39mweak_type,\n\u001b[1;32m    578\u001b[0m                         named_shape\u001b[38;5;241m=\u001b[39mnamed_shape)\n",
      "\u001b[0;31mTypeError\u001b[0m: Cannot interpret value of type <class 'klsurprise.surprise_statistics'> as an abstract array; it does not have a dtype attribute"
     ]
    }
   ],
   "source": [
    "# create mock data and run nested sampling\n",
    "@jit\n",
    "def logpMock_2(theta):\n",
    "    return sup.logL2(theta, sample) # create full posterior distribution 2\n",
    "\n",
    "logpMock_2(theta_sample)"
   ]
  },
  {
   "cell_type": "code",
   "execution_count": 15,
   "metadata": {},
   "outputs": [
    {
     "name": "stderr",
     "output_type": "stream",
     "text": [
      "/home/prm/anaconda3/envs/surprise/lib/python3.10/site-packages/dynesty/dynamicsampler.py:453: RuntimeWarning: overflow encountered in cast\n",
      "  cur_live_logl[not_finite] = _LOWL_VAL\n"
     ]
    },
    {
     "name": "stdout",
     "output_type": "stream",
     "text": [
      "Exception while calling loglikelihood function:\n",
      "  params: [-0.52300278 -3.70938157]\n",
      "  args: []\n",
      "  kwargs: {}\n",
      "  exception:\n"
     ]
    },
    {
     "name": "stderr",
     "output_type": "stream",
     "text": [
      "Traceback (most recent call last):\n",
      "  File \"/home/prm/anaconda3/envs/surprise/lib/python3.10/site-packages/dynesty/dynesty.py\", line 910, in __call__\n",
      "    return self.func(np.asarray(x).copy(), *self.args, **self.kwargs)\n",
      "  File \"/tmp/ipykernel_25518/2946902955.py\", line 3, in logpMock_2\n",
      "    return sup.logL2(theta, sample) # create full posterior distribution 2\n",
      "  File \"/home/prm/klsurprise/klsurprise.py\", line 110, in logL2\n",
      "    log_likelihood = -0.5 * (n * jnp.log(2 * jnp.pi) + log_det_cov + jnp.dot(solve, solve))\n",
      "KeyboardInterrupt\n"
     ]
    },
    {
     "ename": "KeyboardInterrupt",
     "evalue": "",
     "output_type": "error",
     "traceback": [
      "\u001b[0;31m---------------------------------------------------------------------------\u001b[0m",
      "\u001b[0;31mKeyboardInterrupt\u001b[0m                         Traceback (most recent call last)",
      "Cell \u001b[0;32mIn[15], line 4\u001b[0m\n\u001b[1;32m      2\u001b[0m \u001b[38;5;28;01mdef\u001b[39;00m \u001b[38;5;21mlogpMock_2\u001b[39m(theta):\n\u001b[1;32m      3\u001b[0m     \u001b[38;5;28;01mreturn\u001b[39;00m sup\u001b[38;5;241m.\u001b[39mlogL2(theta, sample) \u001b[38;5;66;03m# create full posterior distribution 2\u001b[39;00m\n\u001b[0;32m----> 4\u001b[0m results2 \u001b[38;5;241m=\u001b[39m \u001b[43msup\u001b[49m\u001b[38;5;241;43m.\u001b[39;49m\u001b[43mrun_nested_sampling\u001b[49m\u001b[43m(\u001b[49m\u001b[43mlogpMock_2\u001b[49m\u001b[43m,\u001b[49m\u001b[43m \u001b[49m\u001b[43mndim\u001b[49m\u001b[38;5;241;43m=\u001b[39;49m\u001b[43msup\u001b[49m\u001b[38;5;241;43m.\u001b[39;49m\u001b[43mndim\u001b[49m\u001b[43m,\u001b[49m\u001b[43m \u001b[49m\u001b[43mprior_transform\u001b[49m\u001b[38;5;241;43m=\u001b[39;49m\u001b[38;5;124;43m\"\u001b[39;49m\u001b[38;5;124;43mflat\u001b[39;49m\u001b[38;5;124;43m\"\u001b[39;49m\u001b[43m,\u001b[49m\u001b[43m \u001b[49m\n\u001b[1;32m      5\u001b[0m \u001b[43m                                \u001b[49m\u001b[43mdomain\u001b[49m\u001b[38;5;241;43m=\u001b[39;49m\u001b[43msup\u001b[49m\u001b[38;5;241;43m.\u001b[39;49m\u001b[43mdomain\u001b[49m\u001b[43m,\u001b[49m\u001b[43m \u001b[49m\u001b[43mn_effective\u001b[49m\u001b[38;5;241;43m=\u001b[39;49m\u001b[38;5;241;43m10000\u001b[39;49m\u001b[43m)\u001b[49m \u001b[38;5;66;03m# functions arguments are the best for SNIa chain.\u001b[39;00m\n\u001b[1;32m      6\u001b[0m \u001b[38;5;28;01mif\u001b[39;00m logP_1 \u001b[38;5;129;01mis\u001b[39;00m \u001b[38;5;28;01mNone\u001b[39;00m:\n\u001b[1;32m      7\u001b[0m     \u001b[38;5;28mprint\u001b[39m(\u001b[38;5;124m\"\u001b[39m\u001b[38;5;124mPlease make sure the log-posterior of data-1 is a valid function for MCMC mode!\u001b[39m\u001b[38;5;124m\"\u001b[39m)\n",
      "File \u001b[0;32m~/klsurprise/klsurprise.py:246\u001b[0m, in \u001b[0;36msurprise_statistics.run_nested_sampling\u001b[0;34m(self, loglikelihood, ndim, domain, prior_transform, static_NS, dynamic_NS, dlogz, print_progress, nlive, nlive_batch, maxiter, maxbatch, use_stop, bootstrap, n_effective, **kwargs)\u001b[0m\n\u001b[1;32m    242\u001b[0m \u001b[38;5;28;01mif\u001b[39;00m dynamic_NS:\n\u001b[1;32m    243\u001b[0m     \u001b[38;5;66;03m# \"Dynamic\" nested sampling.\u001b[39;00m\n\u001b[1;32m    244\u001b[0m     \u001b[38;5;66;03m# Effectively samples the posterior.\u001b[39;00m\n\u001b[1;32m    245\u001b[0m     dsampler \u001b[38;5;241m=\u001b[39m dynesty\u001b[38;5;241m.\u001b[39mDynamicNestedSampler(loglikelihood, prior_transform_fun, ndim, bootstrap\u001b[38;5;241m=\u001b[39mbootstrap)\n\u001b[0;32m--> 246\u001b[0m     \u001b[43mdsampler\u001b[49m\u001b[38;5;241;43m.\u001b[39;49m\u001b[43mrun_nested\u001b[49m\u001b[43m(\u001b[49m\u001b[43mdlogz_init\u001b[49m\u001b[38;5;241;43m=\u001b[39;49m\u001b[43mdlogz\u001b[49m\u001b[43m,\u001b[49m\u001b[43m \u001b[49m\u001b[43mprint_progress\u001b[49m\u001b[38;5;241;43m=\u001b[39;49m\u001b[43mprint_progress\u001b[49m\u001b[43m,\u001b[49m\u001b[43m \u001b[49m\u001b[43mnlive_init\u001b[49m\u001b[38;5;241;43m=\u001b[39;49m\u001b[43mnlive\u001b[49m\u001b[43m,\u001b[49m\u001b[43m \u001b[49m\n\u001b[1;32m    247\u001b[0m \u001b[43m                        \u001b[49m\u001b[43mnlive_batch\u001b[49m\u001b[38;5;241;43m=\u001b[39;49m\u001b[43mnlive_batch\u001b[49m\u001b[43m,\u001b[49m\u001b[43m \u001b[49m\u001b[43mmaxbatch\u001b[49m\u001b[38;5;241;43m=\u001b[39;49m\u001b[43mmaxbatch\u001b[49m\u001b[43m,\u001b[49m\u001b[43m \u001b[49m\u001b[43mmaxiter\u001b[49m\u001b[38;5;241;43m=\u001b[39;49m\u001b[43mmaxiter\u001b[49m\u001b[43m,\u001b[49m\u001b[43m \u001b[49m\u001b[43muse_stop\u001b[49m\u001b[38;5;241;43m=\u001b[39;49m\u001b[43muse_stop\u001b[49m\u001b[43m,\u001b[49m\u001b[43m \u001b[49m\u001b[43mn_effective\u001b[49m\u001b[38;5;241;43m=\u001b[39;49m\u001b[43mn_effective\u001b[49m\u001b[43m)\u001b[49m\n\u001b[1;32m    248\u001b[0m     dresults \u001b[38;5;241m=\u001b[39m dsampler\u001b[38;5;241m.\u001b[39mresults\n\u001b[1;32m    249\u001b[0m     results \u001b[38;5;241m=\u001b[39m dresults\n",
      "File \u001b[0;32m~/anaconda3/envs/surprise/lib/python3.10/site-packages/dynesty/dynamicsampler.py:2106\u001b[0m, in \u001b[0;36mDynamicSampler.run_nested\u001b[0;34m(self, nlive_init, maxiter_init, maxcall_init, dlogz_init, logl_max_init, n_effective_init, nlive_batch, wt_function, wt_kwargs, maxiter_batch, maxcall_batch, maxiter, maxcall, maxbatch, n_effective, stop_function, stop_kwargs, use_stop, save_bounds, print_progress, print_func, live_points, resume, checkpoint_file, checkpoint_every)\u001b[0m\n\u001b[1;32m   2101\u001b[0m \u001b[38;5;66;03m# If we have likelihood calls remaining, iterations remaining,\u001b[39;00m\n\u001b[1;32m   2102\u001b[0m \u001b[38;5;66;03m# and we have failed to hit the minimum ESS, run our batch.\u001b[39;00m\n\u001b[1;32m   2103\u001b[0m \u001b[38;5;28;01mif\u001b[39;00m mcall \u001b[38;5;241m>\u001b[39m \u001b[38;5;241m0\u001b[39m \u001b[38;5;129;01mand\u001b[39;00m miter \u001b[38;5;241m>\u001b[39m \u001b[38;5;241m0\u001b[39m \u001b[38;5;129;01mand\u001b[39;00m \u001b[38;5;129;01mnot\u001b[39;00m stop:\n\u001b[1;32m   2104\u001b[0m     \u001b[38;5;66;03m# Compute our sampling bounds using the provided\u001b[39;00m\n\u001b[1;32m   2105\u001b[0m     \u001b[38;5;66;03m# weight function.\u001b[39;00m\n\u001b[0;32m-> 2106\u001b[0m     passback \u001b[38;5;241m=\u001b[39m \u001b[38;5;28;43mself\u001b[39;49m\u001b[38;5;241;43m.\u001b[39;49m\u001b[43madd_batch\u001b[49m\u001b[43m(\u001b[49m\u001b[43mnlive\u001b[49m\u001b[38;5;241;43m=\u001b[39;49m\u001b[43mnlive_batch\u001b[49m\u001b[43m,\u001b[49m\n\u001b[1;32m   2107\u001b[0m \u001b[43m                              \u001b[49m\u001b[43mwt_function\u001b[49m\u001b[38;5;241;43m=\u001b[39;49m\u001b[43mwt_function\u001b[49m\u001b[43m,\u001b[49m\n\u001b[1;32m   2108\u001b[0m \u001b[43m                              \u001b[49m\u001b[43mwt_kwargs\u001b[49m\u001b[38;5;241;43m=\u001b[39;49m\u001b[43mwt_kwargs\u001b[49m\u001b[43m,\u001b[49m\n\u001b[1;32m   2109\u001b[0m \u001b[43m                              \u001b[49m\u001b[43mmaxiter\u001b[49m\u001b[38;5;241;43m=\u001b[39;49m\u001b[43mmiter\u001b[49m\u001b[43m,\u001b[49m\n\u001b[1;32m   2110\u001b[0m \u001b[43m                              \u001b[49m\u001b[43mmaxcall\u001b[49m\u001b[38;5;241;43m=\u001b[39;49m\u001b[43mmcall\u001b[49m\u001b[43m,\u001b[49m\n\u001b[1;32m   2111\u001b[0m \u001b[43m                              \u001b[49m\u001b[43msave_bounds\u001b[49m\u001b[38;5;241;43m=\u001b[39;49m\u001b[43msave_bounds\u001b[49m\u001b[43m,\u001b[49m\n\u001b[1;32m   2112\u001b[0m \u001b[43m                              \u001b[49m\u001b[43mprint_progress\u001b[49m\u001b[38;5;241;43m=\u001b[39;49m\u001b[43mprint_progress\u001b[49m\u001b[43m,\u001b[49m\n\u001b[1;32m   2113\u001b[0m \u001b[43m                              \u001b[49m\u001b[43mprint_func\u001b[49m\u001b[38;5;241;43m=\u001b[39;49m\u001b[43mprint_func\u001b[49m\u001b[43m,\u001b[49m\n\u001b[1;32m   2114\u001b[0m \u001b[43m                              \u001b[49m\u001b[43mstop_val\u001b[49m\u001b[38;5;241;43m=\u001b[39;49m\u001b[43mstop_val\u001b[49m\u001b[43m,\u001b[49m\n\u001b[1;32m   2115\u001b[0m \u001b[43m                              \u001b[49m\u001b[43mresume\u001b[49m\u001b[38;5;241;43m=\u001b[39;49m\u001b[43mresume\u001b[49m\u001b[43m,\u001b[49m\n\u001b[1;32m   2116\u001b[0m \u001b[43m                              \u001b[49m\u001b[43mcheckpoint_file\u001b[49m\u001b[38;5;241;43m=\u001b[39;49m\u001b[43mcheckpoint_file\u001b[49m\u001b[43m)\u001b[49m\n\u001b[1;32m   2117\u001b[0m     \u001b[38;5;28;01mif\u001b[39;00m resume:\n\u001b[1;32m   2118\u001b[0m         \u001b[38;5;66;03m# The assumption here is after the first resume\u001b[39;00m\n\u001b[1;32m   2119\u001b[0m         \u001b[38;5;66;03m# iteration we will proceed as normal\u001b[39;00m\n\u001b[1;32m   2120\u001b[0m         resume \u001b[38;5;241m=\u001b[39m \u001b[38;5;28;01mFalse\u001b[39;00m\n",
      "File \u001b[0;32m~/anaconda3/envs/surprise/lib/python3.10/site-packages/dynesty/dynamicsampler.py:2280\u001b[0m, in \u001b[0;36mDynamicSampler.add_batch\u001b[0;34m(self, nlive, dlogz, mode, wt_function, wt_kwargs, maxiter, maxcall, logl_bounds, save_bounds, print_progress, print_func, stop_val, resume, checkpoint_file, checkpoint_every)\u001b[0m\n\u001b[1;32m   2278\u001b[0m results \u001b[38;5;241m=\u001b[39m \u001b[38;5;28;01mNone\u001b[39;00m  \u001b[38;5;66;03m# to silence pylint as\u001b[39;00m\n\u001b[1;32m   2279\u001b[0m \u001b[38;5;66;03m# sample_batch() should return something given maxiter/maxcall\u001b[39;00m\n\u001b[0;32m-> 2280\u001b[0m \u001b[38;5;28;01mfor\u001b[39;00m cur_results \u001b[38;5;129;01min\u001b[39;00m \u001b[38;5;28mself\u001b[39m\u001b[38;5;241m.\u001b[39msample_batch(nlive_new\u001b[38;5;241m=\u001b[39mnlive,\n\u001b[1;32m   2281\u001b[0m                                      dlogz\u001b[38;5;241m=\u001b[39mdlogz,\n\u001b[1;32m   2282\u001b[0m                                      logl_bounds\u001b[38;5;241m=\u001b[39mlogl_bounds,\n\u001b[1;32m   2283\u001b[0m                                      maxiter\u001b[38;5;241m=\u001b[39mmaxiter,\n\u001b[1;32m   2284\u001b[0m                                      maxcall\u001b[38;5;241m=\u001b[39mmaxcall,\n\u001b[1;32m   2285\u001b[0m                                      save_bounds\u001b[38;5;241m=\u001b[39msave_bounds,\n\u001b[1;32m   2286\u001b[0m                                      resume\u001b[38;5;241m=\u001b[39mresume):\n\u001b[1;32m   2287\u001b[0m     \u001b[38;5;28;01mif\u001b[39;00m resume:\n\u001b[1;32m   2288\u001b[0m         \u001b[38;5;66;03m# only one resume iteration, after that\u001b[39;00m\n\u001b[1;32m   2289\u001b[0m         \u001b[38;5;66;03m# we switch to normal, although currently\u001b[39;00m\n\u001b[1;32m   2290\u001b[0m         \u001b[38;5;66;03m# resume is not used anywhere after\u001b[39;00m\n\u001b[1;32m   2291\u001b[0m         resume \u001b[38;5;241m=\u001b[39m \u001b[38;5;28;01mFalse\u001b[39;00m\n",
      "File \u001b[0;32m~/anaconda3/envs/surprise/lib/python3.10/site-packages/dynesty/dynamicsampler.py:1548\u001b[0m, in \u001b[0;36mDynamicSampler.sample_batch\u001b[0;34m(self, dlogz, nlive_new, update_interval, logl_bounds, maxiter, maxcall, save_bounds, resume)\u001b[0m\n\u001b[1;32m   1544\u001b[0m \u001b[38;5;28;01mif\u001b[39;00m \u001b[38;5;129;01mnot\u001b[39;00m resume:\n\u001b[1;32m   1545\u001b[0m     update_interval \u001b[38;5;241m=\u001b[39m \u001b[38;5;28mself\u001b[39m\u001b[38;5;241m.\u001b[39m__get_update_interval(\n\u001b[1;32m   1546\u001b[0m         update_interval, nlive_new)\n\u001b[1;32m   1547\u001b[0m     (batch_sampler, ncall, niter, logl_min,\n\u001b[0;32m-> 1548\u001b[0m      logl_max) \u001b[38;5;241m=\u001b[39m \u001b[43m_configure_batch_sampler\u001b[49m\u001b[43m(\u001b[49m\n\u001b[1;32m   1549\u001b[0m \u001b[43m         \u001b[49m\u001b[38;5;28;43mself\u001b[39;49m\u001b[43m,\u001b[49m\n\u001b[1;32m   1550\u001b[0m \u001b[43m         \u001b[49m\u001b[43mnlive_new\u001b[49m\u001b[43m,\u001b[49m\n\u001b[1;32m   1551\u001b[0m \u001b[43m         \u001b[49m\u001b[43mupdate_interval\u001b[49m\u001b[38;5;241;43m=\u001b[39;49m\u001b[43mupdate_interval\u001b[49m\u001b[43m,\u001b[49m\n\u001b[1;32m   1552\u001b[0m \u001b[43m         \u001b[49m\u001b[43mlogl_bounds\u001b[49m\u001b[38;5;241;43m=\u001b[39;49m\u001b[43mlogl_bounds\u001b[49m\u001b[43m,\u001b[49m\n\u001b[1;32m   1553\u001b[0m \u001b[43m         \u001b[49m\u001b[43msave_bounds\u001b[49m\u001b[38;5;241;43m=\u001b[39;49m\u001b[43msave_bounds\u001b[49m\u001b[43m)\u001b[49m\n\u001b[1;32m   1554\u001b[0m     \u001b[38;5;28mself\u001b[39m\u001b[38;5;241m.\u001b[39mbatch_sampler \u001b[38;5;241m=\u001b[39m batch_sampler\n\u001b[1;32m   1556\u001b[0m     \u001b[38;5;66;03m# TODO\u001b[39;00m\n\u001b[1;32m   1557\u001b[0m     \u001b[38;5;66;03m# This is not actually correct, and because of that\u001b[39;00m\n\u001b[1;32m   1558\u001b[0m     \u001b[38;5;66;03m# the bounds from base run or added batches are lost\u001b[39;00m\n\u001b[1;32m   1559\u001b[0m     \u001b[38;5;66;03m# Ideally bounds need to be saved somehow not just overwritten\u001b[39;00m\n",
      "File \u001b[0;32m~/anaconda3/envs/surprise/lib/python3.10/site-packages/dynesty/dynamicsampler.py:794\u001b[0m, in \u001b[0;36m_configure_batch_sampler\u001b[0;34m(main_sampler, nlive_new, update_interval, logl_bounds, save_bounds)\u001b[0m\n\u001b[1;32m    791\u001b[0m \u001b[38;5;66;03m# Sample a new batch of `nlive_new` live points using the\u001b[39;00m\n\u001b[1;32m    792\u001b[0m \u001b[38;5;66;03m# internal sampler given the `logl_min` constraint.\u001b[39;00m\n\u001b[1;32m    793\u001b[0m \u001b[38;5;28;01mfor\u001b[39;00m i \u001b[38;5;129;01min\u001b[39;00m \u001b[38;5;28mrange\u001b[39m(nlive_new):\n\u001b[0;32m--> 794\u001b[0m     newpt \u001b[38;5;241m=\u001b[39m \u001b[43mbatch_sampler\u001b[49m\u001b[38;5;241;43m.\u001b[39;49m\u001b[43m_new_point\u001b[49m\u001b[43m(\u001b[49m\u001b[43mlogl_min\u001b[49m\u001b[43m)\u001b[49m\n\u001b[1;32m    795\u001b[0m     (live_u[i], live_v[i], live_logl[i], live_nc[i]) \u001b[38;5;241m=\u001b[39m newpt\n\u001b[1;32m    796\u001b[0m     \u001b[38;5;28;01mif\u001b[39;00m main_sampler\u001b[38;5;241m.\u001b[39mblob:\n",
      "File \u001b[0;32m~/anaconda3/envs/surprise/lib/python3.10/site-packages/dynesty/sampler.py:421\u001b[0m, in \u001b[0;36mSampler._new_point\u001b[0;34m(self, loglstar)\u001b[0m\n\u001b[1;32m    418\u001b[0m ncall_accum \u001b[38;5;241m=\u001b[39m \u001b[38;5;241m0\u001b[39m\n\u001b[1;32m    419\u001b[0m \u001b[38;5;28;01mwhile\u001b[39;00m \u001b[38;5;28;01mTrue\u001b[39;00m:\n\u001b[1;32m    420\u001b[0m     \u001b[38;5;66;03m# Get the next point from the queue\u001b[39;00m\n\u001b[0;32m--> 421\u001b[0m     u, v, logl, nc, blob \u001b[38;5;241m=\u001b[39m \u001b[38;5;28;43mself\u001b[39;49m\u001b[38;5;241;43m.\u001b[39;49m\u001b[43m_get_point_value\u001b[49m\u001b[43m(\u001b[49m\u001b[43mloglstar\u001b[49m\u001b[43m)\u001b[49m\n\u001b[1;32m    422\u001b[0m     ncall \u001b[38;5;241m+\u001b[39m\u001b[38;5;241m=\u001b[39m nc\n\u001b[1;32m    423\u001b[0m     ncall_accum \u001b[38;5;241m+\u001b[39m\u001b[38;5;241m=\u001b[39m nc\n",
      "File \u001b[0;32m~/anaconda3/envs/surprise/lib/python3.10/site-packages/dynesty/sampler.py:404\u001b[0m, in \u001b[0;36mSampler._get_point_value\u001b[0;34m(self, loglstar)\u001b[0m\n\u001b[1;32m    402\u001b[0m \u001b[38;5;66;03m# If the queue is empty, refill it.\u001b[39;00m\n\u001b[1;32m    403\u001b[0m \u001b[38;5;28;01mif\u001b[39;00m \u001b[38;5;28mself\u001b[39m\u001b[38;5;241m.\u001b[39mnqueue \u001b[38;5;241m<\u001b[39m\u001b[38;5;241m=\u001b[39m \u001b[38;5;241m0\u001b[39m:\n\u001b[0;32m--> 404\u001b[0m     \u001b[38;5;28;43mself\u001b[39;49m\u001b[38;5;241;43m.\u001b[39;49m\u001b[43m_fill_queue\u001b[49m\u001b[43m(\u001b[49m\u001b[43mloglstar\u001b[49m\u001b[43m)\u001b[49m\n\u001b[1;32m    406\u001b[0m \u001b[38;5;66;03m# Grab the earliest entry.\u001b[39;00m\n\u001b[1;32m    407\u001b[0m u, v, logl, nc, blob \u001b[38;5;241m=\u001b[39m \u001b[38;5;28mself\u001b[39m\u001b[38;5;241m.\u001b[39mqueue\u001b[38;5;241m.\u001b[39mpop(\u001b[38;5;241m0\u001b[39m)\n",
      "File \u001b[0;32m~/anaconda3/envs/surprise/lib/python3.10/site-packages/dynesty/sampler.py:397\u001b[0m, in \u001b[0;36mSampler._fill_queue\u001b[0;34m(self, loglstar)\u001b[0m\n\u001b[1;32m    387\u001b[0m \u001b[38;5;28;01mfor\u001b[39;00m i \u001b[38;5;129;01min\u001b[39;00m \u001b[38;5;28mrange\u001b[39m(\u001b[38;5;28mself\u001b[39m\u001b[38;5;241m.\u001b[39mqueue_size):\n\u001b[1;32m    388\u001b[0m     args\u001b[38;5;241m.\u001b[39mappend(\n\u001b[1;32m    389\u001b[0m         SamplerArgument(u\u001b[38;5;241m=\u001b[39mpoint_queue[i],\n\u001b[1;32m    390\u001b[0m                         loglstar\u001b[38;5;241m=\u001b[39mloglstar,\n\u001b[0;32m   (...)\u001b[0m\n\u001b[1;32m    395\u001b[0m                         rseed\u001b[38;5;241m=\u001b[39mseeds[i],\n\u001b[1;32m    396\u001b[0m                         kwargs\u001b[38;5;241m=\u001b[39m\u001b[38;5;28mself\u001b[39m\u001b[38;5;241m.\u001b[39mkwargs))\n\u001b[0;32m--> 397\u001b[0m \u001b[38;5;28mself\u001b[39m\u001b[38;5;241m.\u001b[39mqueue \u001b[38;5;241m=\u001b[39m \u001b[38;5;28;43mlist\u001b[39;49m\u001b[43m(\u001b[49m\u001b[43mmapper\u001b[49m\u001b[43m(\u001b[49m\u001b[43mevolve_point\u001b[49m\u001b[43m,\u001b[49m\u001b[43m \u001b[49m\u001b[43margs\u001b[49m\u001b[43m)\u001b[49m\u001b[43m)\u001b[49m\n",
      "File \u001b[0;32m~/anaconda3/envs/surprise/lib/python3.10/site-packages/dynesty/sampling.py:88\u001b[0m, in \u001b[0;36msample_unif\u001b[0;34m(args)\u001b[0m\n\u001b[1;32m     84\u001b[0m \u001b[38;5;66;03m# Unzipping.\u001b[39;00m\n\u001b[1;32m     85\u001b[0m \n\u001b[1;32m     86\u001b[0m \u001b[38;5;66;03m# Evaluate.\u001b[39;00m\n\u001b[1;32m     87\u001b[0m v \u001b[38;5;241m=\u001b[39m args\u001b[38;5;241m.\u001b[39mprior_transform(np\u001b[38;5;241m.\u001b[39masarray(args\u001b[38;5;241m.\u001b[39mu))\n\u001b[0;32m---> 88\u001b[0m logl \u001b[38;5;241m=\u001b[39m \u001b[43margs\u001b[49m\u001b[38;5;241;43m.\u001b[39;49m\u001b[43mloglikelihood\u001b[49m\u001b[43m(\u001b[49m\u001b[43mnp\u001b[49m\u001b[38;5;241;43m.\u001b[39;49m\u001b[43masarray\u001b[49m\u001b[43m(\u001b[49m\u001b[43mv\u001b[49m\u001b[43m)\u001b[49m\u001b[43m)\u001b[49m\n\u001b[1;32m     89\u001b[0m nc \u001b[38;5;241m=\u001b[39m \u001b[38;5;241m1\u001b[39m\n\u001b[1;32m     90\u001b[0m blob \u001b[38;5;241m=\u001b[39m \u001b[38;5;28;01mNone\u001b[39;00m\n",
      "File \u001b[0;32m~/anaconda3/envs/surprise/lib/python3.10/site-packages/dynesty/utils.py:187\u001b[0m, in \u001b[0;36mLogLikelihood.__call__\u001b[0;34m(self, x)\u001b[0m\n\u001b[1;32m    183\u001b[0m \u001b[38;5;28;01mdef\u001b[39;00m \u001b[38;5;21m__call__\u001b[39m(\u001b[38;5;28mself\u001b[39m, x):\n\u001b[1;32m    184\u001b[0m \u001b[38;5;250m    \u001b[39m\u001b[38;5;124;03m\"\"\"\u001b[39;00m\n\u001b[1;32m    185\u001b[0m \u001b[38;5;124;03m    Evaluate the likelihood f-n once\u001b[39;00m\n\u001b[1;32m    186\u001b[0m \u001b[38;5;124;03m    \"\"\"\u001b[39;00m\n\u001b[0;32m--> 187\u001b[0m     ret \u001b[38;5;241m=\u001b[39m LoglOutput(\u001b[38;5;28;43mself\u001b[39;49m\u001b[38;5;241;43m.\u001b[39;49m\u001b[43mloglikelihood\u001b[49m\u001b[43m(\u001b[49m\u001b[43mx\u001b[49m\u001b[43m)\u001b[49m, \u001b[38;5;28mself\u001b[39m\u001b[38;5;241m.\u001b[39mblob)\n\u001b[1;32m    188\u001b[0m     \u001b[38;5;28;01mif\u001b[39;00m \u001b[38;5;28mself\u001b[39m\u001b[38;5;241m.\u001b[39msave:\n\u001b[1;32m    189\u001b[0m         \u001b[38;5;28mself\u001b[39m\u001b[38;5;241m.\u001b[39mhistory_append([ret\u001b[38;5;241m.\u001b[39mval], [x])\n",
      "File \u001b[0;32m~/anaconda3/envs/surprise/lib/python3.10/site-packages/dynesty/dynesty.py:910\u001b[0m, in \u001b[0;36m_function_wrapper.__call__\u001b[0;34m(self, x)\u001b[0m\n\u001b[1;32m    902\u001b[0m \u001b[38;5;28;01mdef\u001b[39;00m \u001b[38;5;21m__call__\u001b[39m(\u001b[38;5;28mself\u001b[39m, x):\n\u001b[1;32m    903\u001b[0m     \u001b[38;5;28;01mtry\u001b[39;00m:\n\u001b[1;32m    904\u001b[0m         \u001b[38;5;66;03m# IMPORTANT\u001b[39;00m\n\u001b[1;32m    905\u001b[0m         \u001b[38;5;66;03m# Here we make a copy if the input vector just to ensure\u001b[39;00m\n\u001b[0;32m   (...)\u001b[0m\n\u001b[1;32m    908\u001b[0m         \u001b[38;5;66;03m# This comes at performance cost, but it's worthwhile\u001b[39;00m\n\u001b[1;32m    909\u001b[0m         \u001b[38;5;66;03m# as it may lead to hard to diagnose weird behaviour\u001b[39;00m\n\u001b[0;32m--> 910\u001b[0m         \u001b[38;5;28;01mreturn\u001b[39;00m \u001b[38;5;28;43mself\u001b[39;49m\u001b[38;5;241;43m.\u001b[39;49m\u001b[43mfunc\u001b[49m\u001b[43m(\u001b[49m\u001b[43mnp\u001b[49m\u001b[38;5;241;43m.\u001b[39;49m\u001b[43masarray\u001b[49m\u001b[43m(\u001b[49m\u001b[43mx\u001b[49m\u001b[43m)\u001b[49m\u001b[38;5;241;43m.\u001b[39;49m\u001b[43mcopy\u001b[49m\u001b[43m(\u001b[49m\u001b[43m)\u001b[49m\u001b[43m,\u001b[49m\u001b[43m \u001b[49m\u001b[38;5;241;43m*\u001b[39;49m\u001b[38;5;28;43mself\u001b[39;49m\u001b[38;5;241;43m.\u001b[39;49m\u001b[43margs\u001b[49m\u001b[43m,\u001b[49m\u001b[43m \u001b[49m\u001b[38;5;241;43m*\u001b[39;49m\u001b[38;5;241;43m*\u001b[39;49m\u001b[38;5;28;43mself\u001b[39;49m\u001b[38;5;241;43m.\u001b[39;49m\u001b[43mkwargs\u001b[49m\u001b[43m)\u001b[49m\n\u001b[1;32m    911\u001b[0m     \u001b[38;5;28;01mexcept\u001b[39;00m:  \u001b[38;5;66;03m# noqa\u001b[39;00m\n\u001b[1;32m    912\u001b[0m         \u001b[38;5;28mprint\u001b[39m(\u001b[38;5;124mf\u001b[39m\u001b[38;5;124m\"\u001b[39m\u001b[38;5;124mException while calling \u001b[39m\u001b[38;5;132;01m{\u001b[39;00m\u001b[38;5;28mself\u001b[39m\u001b[38;5;241m.\u001b[39mname\u001b[38;5;132;01m}\u001b[39;00m\u001b[38;5;124m function:\u001b[39m\u001b[38;5;124m\"\u001b[39m)\n",
      "Cell \u001b[0;32mIn[15], line 3\u001b[0m, in \u001b[0;36mlogpMock_2\u001b[0;34m(theta)\u001b[0m\n\u001b[1;32m      2\u001b[0m \u001b[38;5;28;01mdef\u001b[39;00m \u001b[38;5;21mlogpMock_2\u001b[39m(theta):\n\u001b[0;32m----> 3\u001b[0m     \u001b[38;5;28;01mreturn\u001b[39;00m \u001b[43msup\u001b[49m\u001b[38;5;241;43m.\u001b[39;49m\u001b[43mlogL2\u001b[49m\u001b[43m(\u001b[49m\u001b[43mtheta\u001b[49m\u001b[43m,\u001b[49m\u001b[43m \u001b[49m\u001b[43msample\u001b[49m\u001b[43m)\u001b[49m\n",
      "File \u001b[0;32m~/klsurprise/klsurprise.py:110\u001b[0m, in \u001b[0;36msurprise_statistics.logL2\u001b[0;34m(self, theta, D)\u001b[0m\n\u001b[1;32m    108\u001b[0m solve \u001b[38;5;241m=\u001b[39m solve_triangular(\u001b[38;5;28mself\u001b[39m\u001b[38;5;241m.\u001b[39mchol_cov_2, diff, lower\u001b[38;5;241m=\u001b[39m\u001b[38;5;28;01mTrue\u001b[39;00m)\n\u001b[1;32m    109\u001b[0m log_det_cov \u001b[38;5;241m=\u001b[39m \u001b[38;5;241m2\u001b[39m \u001b[38;5;241m*\u001b[39m jnp\u001b[38;5;241m.\u001b[39msum(jnp\u001b[38;5;241m.\u001b[39mlog(jnp\u001b[38;5;241m.\u001b[39mdiagonal(\u001b[38;5;28mself\u001b[39m\u001b[38;5;241m.\u001b[39mchol_cov_2)))\n\u001b[0;32m--> 110\u001b[0m log_likelihood \u001b[38;5;241m=\u001b[39m \u001b[38;5;241m-\u001b[39m\u001b[38;5;241m0.5\u001b[39m \u001b[38;5;241m*\u001b[39m (n \u001b[38;5;241m*\u001b[39m \u001b[43mjnp\u001b[49m\u001b[38;5;241;43m.\u001b[39;49m\u001b[43mlog\u001b[49m\u001b[43m(\u001b[49m\u001b[38;5;241;43m2\u001b[39;49m\u001b[43m \u001b[49m\u001b[38;5;241;43m*\u001b[39;49m\u001b[43m \u001b[49m\u001b[43mjnp\u001b[49m\u001b[38;5;241;43m.\u001b[39;49m\u001b[43mpi\u001b[49m\u001b[43m)\u001b[49m \u001b[38;5;241m+\u001b[39m log_det_cov \u001b[38;5;241m+\u001b[39m jnp\u001b[38;5;241m.\u001b[39mdot(solve, solve))\n\u001b[1;32m    112\u001b[0m \u001b[38;5;28;01mreturn\u001b[39;00m log_likelihood\n",
      "\u001b[0;31mKeyboardInterrupt\u001b[0m: "
     ]
    }
   ],
   "source": [
    "# create mock data and run nested sampling\n",
    "def logpMock_2(theta):\n",
    "    return sup.logL2(theta, sample) # create full posterior distribution 2\n",
    "results2 = sup.run_nested_sampling(logpMock_2, ndim=sup.ndim, prior_transform=\"flat\", \n",
    "                                domain=sup.domain, n_effective=10000) # functions arguments are the best for SNIa chain.\n",
    "if logP_1 is None:\n",
    "    print(\"Please make sure the log-posterior of data-1 is a valid function for MCMC mode!\")\n",
    "\n",
    "kld_return = self.KLD_numerical(results2, logpMock_2, sup.res_1, logP_1=sup.logL1, domain = sup.domain, prior_transform=\"flat\",progress=False, batch_size = 1000)"
   ]
  },
  {
   "cell_type": "code",
   "execution_count": 8,
   "metadata": {},
   "outputs": [
    {
     "name": "stdout",
     "output_type": "stream",
     "text": [
      "Handling dataset 1...\n",
      "______________________________________________________________________\n",
      "Done!\n",
      "\n",
      "Handling posterior predictive distribution PPD(D2|D1) ...\n",
      "______________________________________________________________________\n",
      "Will sample KLD the same size as PPD.\n",
      "Nkld =  1\n",
      "Handling KLD distribution...\n",
      "______________________________________________________________________\n"
     ]
    },
    {
     "data": {
      "application/vnd.jupyter.widget-view+json": {
       "model_id": "72bcceffbc48404ab49e5c57ed7bce1d",
       "version_major": 2,
       "version_minor": 0
      },
      "text/plain": [
       "Iterating over the PPD:   0%|          | 0/1 [00:00<?, ?it/s]"
      ]
     },
     "metadata": {},
     "output_type": "display_data"
    },
    {
     "ename": "UnboundLocalError",
     "evalue": "local variable 'domain_pass' referenced before assignment",
     "output_type": "error",
     "traceback": [
      "\u001b[0;31m---------------------------------------------------------------------------\u001b[0m",
      "\u001b[0;31mUnboundLocalError\u001b[0m                         Traceback (most recent call last)",
      "Cell \u001b[0;32mIn[8], line 1\u001b[0m\n\u001b[0;32m----> 1\u001b[0m res \u001b[38;5;241m=\u001b[39m \u001b[43msup\u001b[49m\u001b[38;5;241;43m.\u001b[39;49m\u001b[43msurprise_function_call\u001b[49m\u001b[43m(\u001b[49m\u001b[38;5;241;43m2\u001b[39;49m\u001b[43m,\u001b[49m\u001b[43m \u001b[49m\u001b[43mn_jobs\u001b[49m\u001b[43m \u001b[49m\u001b[38;5;241;43m=\u001b[39;49m\u001b[43m \u001b[49m\u001b[38;5;241;43m1\u001b[39;49m\u001b[43m)\u001b[49m\n",
      "File \u001b[0;32m~/klsurprise/klsurprise.py:627\u001b[0m, in \u001b[0;36msurprise_statistics.surprise_function_call\u001b[0;34m(self, Nkld, result_path, n_effective, n_jobs, verbose)\u001b[0m\n\u001b[1;32m    625\u001b[0m \u001b[38;5;28mprint\u001b[39m(\u001b[38;5;124m\"\u001b[39m\u001b[38;5;124mHandling KLD distribution...\u001b[39m\u001b[38;5;124m\"\u001b[39m)\n\u001b[1;32m    626\u001b[0m \u001b[38;5;28mprint\u001b[39m(\u001b[38;5;241m70\u001b[39m\u001b[38;5;241m*\u001b[39m\u001b[38;5;124m\"\u001b[39m\u001b[38;5;124m_\u001b[39m\u001b[38;5;124m\"\u001b[39m)\n\u001b[0;32m--> 627\u001b[0m kld_samples \u001b[38;5;241m=\u001b[39m \u001b[38;5;28;43mself\u001b[39;49m\u001b[38;5;241;43m.\u001b[39;49m\u001b[43mcompute_kld_distribution\u001b[49m\u001b[43m(\u001b[49m\u001b[38;5;28;43mself\u001b[39;49m\u001b[38;5;241;43m.\u001b[39;49m\u001b[43mPPD_chain\u001b[49m\u001b[43m,\u001b[49m\u001b[43m \u001b[49m\u001b[38;5;28;43mself\u001b[39;49m\u001b[38;5;241;43m.\u001b[39;49m\u001b[43mlogL2\u001b[49m\u001b[43m,\u001b[49m\u001b[43m \u001b[49m\u001b[38;5;28;43mself\u001b[39;49m\u001b[38;5;241;43m.\u001b[39;49m\u001b[43mres_1\u001b[49m\u001b[43m,\u001b[49m\u001b[43m \u001b[49m\u001b[43mlogP_1\u001b[49m\u001b[38;5;241;43m=\u001b[39;49m\u001b[38;5;28;43mself\u001b[39;49m\u001b[38;5;241;43m.\u001b[39;49m\u001b[43mlogL1\u001b[49m\u001b[43m,\u001b[49m\u001b[43m \u001b[49m\n\u001b[1;32m    628\u001b[0m \u001b[43m                                            \u001b[49m\u001b[43mdomain\u001b[49m\u001b[38;5;241;43m=\u001b[39;49m\u001b[38;5;28;43mself\u001b[39;49m\u001b[38;5;241;43m.\u001b[39;49m\u001b[43mdomain\u001b[49m\u001b[43m,\u001b[49m\u001b[43m \u001b[49m\u001b[43mn_jobs\u001b[49m\u001b[38;5;241;43m=\u001b[39;49m\u001b[43mn_jobs\u001b[49m\u001b[43m,\u001b[49m\u001b[43m \u001b[49m\u001b[43mn_effective\u001b[49m\u001b[38;5;241;43m=\u001b[39;49m\u001b[43mn_effective\u001b[49m\u001b[43m)\u001b[49m\n\u001b[1;32m    630\u001b[0m \u001b[38;5;28mprint\u001b[39m(\u001b[38;5;124m\"\u001b[39m\u001b[38;5;124mAble to get here!\u001b[39m\u001b[38;5;124m\"\u001b[39m)\n\u001b[1;32m    631\u001b[0m kld_array \u001b[38;5;241m=\u001b[39m jnp\u001b[38;5;241m.\u001b[39marray(kld_samples)\n",
      "File \u001b[0;32m~/klsurprise/klsurprise.py:497\u001b[0m, in \u001b[0;36msurprise_statistics.compute_kld_distribution\u001b[0;34m(self, PPDsamples, logL_mock, mock1_NS_result, logP_1, domain, ndim, n_jobs, result_path, prior_transform, n_effective, clip_range)\u001b[0m\n\u001b[1;32m    494\u001b[0m \u001b[38;5;28;01melse\u001b[39;00m:\n\u001b[1;32m    495\u001b[0m     domain_pass \u001b[38;5;241m=\u001b[39m domain\n\u001b[0;32m--> 497\u001b[0m results \u001b[38;5;241m=\u001b[39m \u001b[43mParallel\u001b[49m\u001b[43m(\u001b[49m\u001b[43mn_jobs\u001b[49m\u001b[38;5;241;43m=\u001b[39;49m\u001b[43mn_jobs\u001b[49m\u001b[43m)\u001b[49m\u001b[43m(\u001b[49m\u001b[43mdelayed\u001b[49m\u001b[43m(\u001b[49m\u001b[38;5;28;43mself\u001b[39;49m\u001b[38;5;241;43m.\u001b[39;49m\u001b[43mkld_worker\u001b[49m\u001b[43m)\u001b[49m\n\u001b[1;32m    498\u001b[0m \u001b[43m                                \u001b[49m\u001b[43m(\u001b[49m\u001b[43msample\u001b[49m\u001b[43m,\u001b[49m\u001b[43m \u001b[49m\u001b[43mlogL_mock\u001b[49m\u001b[43m,\u001b[49m\u001b[43m \u001b[49m\u001b[43mmock1_NS_result\u001b[49m\u001b[43m,\u001b[49m\u001b[43m \u001b[49m\u001b[43mlogP_1\u001b[49m\u001b[43m,\u001b[49m\u001b[43m \u001b[49m\u001b[43mdomain_pass\u001b[49m\u001b[43m,\u001b[49m\u001b[43m \u001b[49m\u001b[43mndim\u001b[49m\u001b[43m,\u001b[49m\u001b[43m \u001b[49m\u001b[43mprior_transform\u001b[49m\u001b[43m,\u001b[49m\u001b[43m \u001b[49m\u001b[43mn_effective\u001b[49m\u001b[43m,\u001b[49m\u001b[43m \u001b[49m\u001b[43mclip_range\u001b[49m\u001b[43m)\u001b[49m\n\u001b[1;32m    499\u001b[0m \u001b[43m                                \u001b[49m\u001b[38;5;28;43;01mfor\u001b[39;49;00m\u001b[43m \u001b[49m\u001b[43mi\u001b[49m\u001b[43m,\u001b[49m\u001b[43m \u001b[49m\u001b[43msample\u001b[49m\u001b[43m \u001b[49m\u001b[38;5;129;43;01min\u001b[39;49;00m\u001b[43m \u001b[49m\u001b[38;5;28;43menumerate\u001b[39;49m\u001b[43m(\u001b[49m\u001b[43mtqdm\u001b[49m\u001b[43m(\u001b[49m\u001b[43mPPDsamples\u001b[49m\u001b[43m,\u001b[49m\u001b[43m \u001b[49m\u001b[43mdesc\u001b[49m\u001b[38;5;241;43m=\u001b[39;49m\u001b[38;5;124;43m\"\u001b[39;49m\u001b[38;5;124;43mIterating over the PPD\u001b[39;49m\u001b[38;5;124;43m\"\u001b[39;49m\u001b[43m)\u001b[49m\u001b[43m)\u001b[49m\u001b[43m)\u001b[49m\n\u001b[1;32m    501\u001b[0m \u001b[38;5;28;01mfor\u001b[39;00m kld, ppdsample \u001b[38;5;129;01min\u001b[39;00m results:\n\u001b[1;32m    502\u001b[0m     kld_results\u001b[38;5;241m.\u001b[39mappend(kld)\n",
      "File \u001b[0;32m~/anaconda3/envs/surprise/lib/python3.10/site-packages/joblib/parallel.py:1863\u001b[0m, in \u001b[0;36mParallel.__call__\u001b[0;34m(self, iterable)\u001b[0m\n\u001b[1;32m   1861\u001b[0m     output \u001b[38;5;241m=\u001b[39m \u001b[38;5;28mself\u001b[39m\u001b[38;5;241m.\u001b[39m_get_sequential_output(iterable)\n\u001b[1;32m   1862\u001b[0m     \u001b[38;5;28mnext\u001b[39m(output)\n\u001b[0;32m-> 1863\u001b[0m     \u001b[38;5;28;01mreturn\u001b[39;00m output \u001b[38;5;28;01mif\u001b[39;00m \u001b[38;5;28mself\u001b[39m\u001b[38;5;241m.\u001b[39mreturn_generator \u001b[38;5;28;01melse\u001b[39;00m \u001b[38;5;28;43mlist\u001b[39;49m\u001b[43m(\u001b[49m\u001b[43moutput\u001b[49m\u001b[43m)\u001b[49m\n\u001b[1;32m   1865\u001b[0m \u001b[38;5;66;03m# Let's create an ID that uniquely identifies the current call. If the\u001b[39;00m\n\u001b[1;32m   1866\u001b[0m \u001b[38;5;66;03m# call is interrupted early and that the same instance is immediately\u001b[39;00m\n\u001b[1;32m   1867\u001b[0m \u001b[38;5;66;03m# re-used, this id will be used to prevent workers that were\u001b[39;00m\n\u001b[1;32m   1868\u001b[0m \u001b[38;5;66;03m# concurrently finalizing a task from the previous call to run the\u001b[39;00m\n\u001b[1;32m   1869\u001b[0m \u001b[38;5;66;03m# callback.\u001b[39;00m\n\u001b[1;32m   1870\u001b[0m \u001b[38;5;28;01mwith\u001b[39;00m \u001b[38;5;28mself\u001b[39m\u001b[38;5;241m.\u001b[39m_lock:\n",
      "File \u001b[0;32m~/anaconda3/envs/surprise/lib/python3.10/site-packages/joblib/parallel.py:1792\u001b[0m, in \u001b[0;36mParallel._get_sequential_output\u001b[0;34m(self, iterable)\u001b[0m\n\u001b[1;32m   1790\u001b[0m \u001b[38;5;28mself\u001b[39m\u001b[38;5;241m.\u001b[39mn_dispatched_batches \u001b[38;5;241m+\u001b[39m\u001b[38;5;241m=\u001b[39m \u001b[38;5;241m1\u001b[39m\n\u001b[1;32m   1791\u001b[0m \u001b[38;5;28mself\u001b[39m\u001b[38;5;241m.\u001b[39mn_dispatched_tasks \u001b[38;5;241m+\u001b[39m\u001b[38;5;241m=\u001b[39m \u001b[38;5;241m1\u001b[39m\n\u001b[0;32m-> 1792\u001b[0m res \u001b[38;5;241m=\u001b[39m \u001b[43mfunc\u001b[49m\u001b[43m(\u001b[49m\u001b[38;5;241;43m*\u001b[39;49m\u001b[43margs\u001b[49m\u001b[43m,\u001b[49m\u001b[43m \u001b[49m\u001b[38;5;241;43m*\u001b[39;49m\u001b[38;5;241;43m*\u001b[39;49m\u001b[43mkwargs\u001b[49m\u001b[43m)\u001b[49m\n\u001b[1;32m   1793\u001b[0m \u001b[38;5;28mself\u001b[39m\u001b[38;5;241m.\u001b[39mn_completed_tasks \u001b[38;5;241m+\u001b[39m\u001b[38;5;241m=\u001b[39m \u001b[38;5;241m1\u001b[39m\n\u001b[1;32m   1794\u001b[0m \u001b[38;5;28mself\u001b[39m\u001b[38;5;241m.\u001b[39mprint_progress()\n",
      "File \u001b[0;32m~/klsurprise/klsurprise.py:438\u001b[0m, in \u001b[0;36msurprise_statistics.kld_worker\u001b[0;34m(self, sample, logL_mock, mock1_NS_result, logP_1, domain, ndim, prior_transform, n_effective, clip_range)\u001b[0m\n\u001b[1;32m    435\u001b[0m \u001b[38;5;66;03m# create mock data and run nested sampling \u001b[39;00m\n\u001b[1;32m    436\u001b[0m logpMock_2 \u001b[38;5;241m=\u001b[39m \u001b[38;5;28;01mlambda\u001b[39;00m u : logL_mock(u, sample) \u001b[38;5;66;03m# create full posterior distribution 2\u001b[39;00m\n\u001b[1;32m    437\u001b[0m results2 \u001b[38;5;241m=\u001b[39m \u001b[38;5;28mself\u001b[39m\u001b[38;5;241m.\u001b[39mrun_nested_sampling(logpMock_2, ndim\u001b[38;5;241m=\u001b[39mndim, prior_transform\u001b[38;5;241m=\u001b[39mprior_transform, \n\u001b[0;32m--> 438\u001b[0m                                 domain\u001b[38;5;241m=\u001b[39m\u001b[43mdomain_pass\u001b[49m, n_effective\u001b[38;5;241m=\u001b[39mn_effective) \u001b[38;5;66;03m# functions arguments are the best for SNIa chain.\u001b[39;00m\n\u001b[1;32m    439\u001b[0m \u001b[38;5;28;01mif\u001b[39;00m logP_1 \u001b[38;5;129;01mis\u001b[39;00m \u001b[38;5;28;01mNone\u001b[39;00m:\n\u001b[1;32m    440\u001b[0m     \u001b[38;5;28mprint\u001b[39m(\u001b[38;5;124m\"\u001b[39m\u001b[38;5;124mPlease make sure the log-posterior of data-1 is a valid function for MCMC mode!\u001b[39m\u001b[38;5;124m\"\u001b[39m)\n",
      "\u001b[0;31mUnboundLocalError\u001b[0m: local variable 'domain_pass' referenced before assignment"
     ]
    }
   ],
   "source": [
    "res = sup.surprise_function_call(2, n_jobs = 1)"
   ]
  },
  {
   "cell_type": "code",
   "execution_count": null,
   "metadata": {},
   "outputs": [],
   "source": []
  },
  {
   "cell_type": "code",
   "execution_count": 12,
   "metadata": {},
   "outputs": [
    {
     "data": {
      "text/plain": [
       "array([0.69450446, 1.16519453, 1.10621116, 0.68054271, 0.24146422,\n",
       "       0.35661595, 0.20663764])"
      ]
     },
     "execution_count": 12,
     "metadata": {},
     "output_type": "execute_result"
    }
   ],
   "source": [
    "sup.data_2_model_fun(np.array([0.3,0.1]))"
   ]
  },
  {
   "cell_type": "code",
   "execution_count": null,
   "metadata": {},
   "outputs": [],
   "source": [
    "import PPD\n",
    "PPD.create_ppd_chain()"
   ]
  },
  {
   "cell_type": "markdown",
   "metadata": {},
   "source": []
  }
 ],
 "metadata": {
  "kernelspec": {
   "display_name": "Python (surprise)",
   "language": "python",
   "name": "surprise"
  },
  "language_info": {
   "codemirror_mode": {
    "name": "ipython",
    "version": 3
   },
   "file_extension": ".py",
   "mimetype": "text/x-python",
   "name": "python",
   "nbconvert_exporter": "python",
   "pygments_lexer": "ipython3",
   "version": "3.10.13"
  }
 },
 "nbformat": 4,
 "nbformat_minor": 4
}
