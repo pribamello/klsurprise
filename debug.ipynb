{
 "cells": [
  {
   "cell_type": "code",
   "execution_count": 1,
   "metadata": {},
   "outputs": [],
   "source": [
    "import numpy as np\n",
    "\n",
    "from jax import jit\n",
    "import jax.numpy as jnp\n",
    "\n",
    "import klsurprise as kls"
   ]
  },
  {
   "cell_type": "markdown",
   "metadata": {},
   "source": [
    "# Setting up a mock case for debuging"
   ]
  },
  {
   "cell_type": "code",
   "execution_count": 2,
   "metadata": {},
   "outputs": [
    {
     "name": "stdout",
     "output_type": "stream",
     "text": [
      "Fiducial parameters 1 =  [0.4 0.1]\n",
      "Fiducial parameters 2 =  [1.3 0.2]\n"
     ]
    }
   ],
   "source": [
    "# Set the seed for reproducibility\n",
    "np.random.seed(42)\n",
    "\n",
    "# Constants and dimensions\n",
    "theta_dim = 2\n",
    "D_dim = 7\n",
    "\n",
    "# Gera um vetor de parametros \\theta_1 e theta_2\n",
    "theta_fid_1 = np.array([0.4, 0.1])\n",
    "theta_fid_2 = np.array([1.3, 0.2])\n",
    "\n",
    "\n",
    "# generate F(theta) related quantities\n",
    "F0 = np.random.rand(D_dim)  # 7x1 vector\n",
    "M = np.random.rand(D_dim, theta_dim)  # 7x2 matrix\n",
    "# generate covariance matrix for likelihood L2\n",
    "C = np.random.rand(D_dim, D_dim)  # 7x7 matrix\n",
    "# generate covariance matrix for posterior 1\n",
    "Sigma_1 = np.random.rand(theta_dim, theta_dim)  # 2x2 matrix\n",
    "\n",
    "# Ensure C and Sigma are symmetric and positive-definite\n",
    "C = np.dot(C, C.T)\n",
    "Sigma_1 = np.dot(Sigma_1, Sigma_1.T)\n",
    "invS1 = np.linalg.inv(Sigma_1)\n",
    "\n",
    "# covariance matrix of posterior 2\n",
    "# Assuming Gaussianity and a flat prior, we can also derive the equations for Sigma_2. \n",
    "# See https://arxiv.org/abs/1402.3593 eq. A17.\n",
    "invC  = np.linalg.inv(C)\n",
    "invS2 = np.dot(M.T, np.dot(invC, M))\n",
    "Sigma_2 = np.linalg.inv(invS2)\n",
    "\n",
    "# Define the linear function F(theta)\n",
    "def F(theta):\n",
    "    return F0 + np.dot(M, theta)\n",
    "\n",
    "# fiducial data vectors\n",
    "################# hey there, maybe you should think some more here about putting noise to this vector!\n",
    "D1_fid = F(theta_fid_1) \n",
    "D2_fid = F(theta_fid_2)\n",
    "\n",
    "print(\"Fiducial parameters 1 = \", theta_fid_1)\n",
    "print(\"Fiducial parameters 2 = \", theta_fid_2)"
   ]
  },
  {
   "cell_type": "code",
   "execution_count": 3,
   "metadata": {},
   "outputs": [],
   "source": [
    "def multivariate_gaussian_pdf(theta, mean, cov):\n",
    "    \"\"\"\n",
    "    Calculate the PDF of a multivariate Gaussian distribution.\n",
    "\n",
    "    Parameters:\n",
    "    mean : array-like, shape (n,)\n",
    "        The mean vector of the Gaussian distribution.\n",
    "    cov : array-like, shape (n, n)\n",
    "        The covariance matrix of the Gaussian distribution.\n",
    "    theta : array-like, shape (n,)\n",
    "        The parameter vector at which to evaluate the PDF.\n",
    "\n",
    "    Returns:\n",
    "    pdf_value : float\n",
    "        The PDF value of the multivariate Gaussian at the data point.\n",
    "    \"\"\"\n",
    "    k = mean.shape[0]\n",
    "    diff = theta - mean\n",
    "    inv_cov = jnp.linalg.inv(cov)\n",
    "    logL = -0.5 * jnp.dot(diff, jnp.dot(inv_cov, diff))\n",
    "    norm_factor = jnp.log(jnp.sqrt((2 * jnp.pi) ** k * jnp.linalg.det(cov)))\n",
    "    logpdf_value = logL - norm_factor\n",
    "    return logpdf_value"
   ]
  },
  {
   "cell_type": "markdown",
   "metadata": {},
   "source": [
    "**Define both loglikelihoods that will be used in the main function**"
   ]
  },
  {
   "cell_type": "code",
   "execution_count": 4,
   "metadata": {},
   "outputs": [],
   "source": [
    "# Define the distributions as callable functions of theta and D\n",
    "@jit\n",
    "def logL1(theta):\n",
    "    return multivariate_gaussian_pdf(theta, theta_fid_1, Sigma_1)\n",
    "\n",
    "@jit\n",
    "def logL2(theta):\n",
    "    return multivariate_gaussian_pdf(theta, theta_fid_2, Sigma_2)\n",
    "\n",
    "domain = np.array([[5,-5], [5,-5]])"
   ]
  },
  {
   "cell_type": "markdown",
   "metadata": {},
   "source": [
    "# Debuging part"
   ]
  },
  {
   "cell_type": "markdown",
   "metadata": {},
   "source": [
    "**Class debug and nested sampling run:**"
   ]
  },
  {
   "cell_type": "code",
   "execution_count": 5,
   "metadata": {},
   "outputs": [
    {
     "name": "stderr",
     "output_type": "stream",
     "text": [
      "An NVIDIA GPU may be present on this machine, but a CUDA-enabled jaxlib is not installed. Falling back to cpu.\n"
     ]
    },
    {
     "data": {
      "text/plain": [
       "Array(-4.2779007, dtype=float32)"
      ]
     },
     "execution_count": 5,
     "metadata": {},
     "output_type": "execute_result"
    }
   ],
   "source": [
    "logL1(np.array([0.4,2]))"
   ]
  },
  {
   "cell_type": "code",
   "execution_count": 11,
   "metadata": {},
   "outputs": [],
   "source": [
    "sup = kls.surprise_statistics(logL1, F, covariance_matrix_2=Sigma_2, domain=domain, data_2=D2_fid)"
   ]
  },
  {
   "cell_type": "code",
   "execution_count": 10,
   "metadata": {},
   "outputs": [
    {
     "name": "stderr",
     "output_type": "stream",
     "text": [
      "0it [00:00, ?it/s]/home/prm/anaconda3/envs/surprise/lib/python3.10/site-packages/dynesty/dynamicsampler.py:453: RuntimeWarning: overflow encountered in cast\n",
      "  cur_live_logl[not_finite] = _LOWL_VAL\n",
      "20300it [00:18, 1055.64it/s, batch: 21 | bound: 2 | nc: 3 | ncall: 99844 | eff(%): 20.228 | loglstar: -10.798 < -1.907 < -1.867 | logz: -4.651 +/-  0.036 | stop:  1.194]        /home/prm/anaconda3/envs/surprise/lib/python3.10/site-packages/dynesty/dynamicsampler.py:453: RuntimeWarning: overflow encountered in cast\n",
      "  cur_live_logl[not_finite] = _LOWL_VAL\n",
      "23774it [00:23, 1029.45it/s, batch: 26 | bound: 2 | nc: 1 | ncall: 119259 | eff(%): 19.601 | loglstar: -3.791 < -1.385 < -1.871 | logz: -4.644 +/-  0.034 | stop:  0.977] \n",
      "0it [00:00, ?it/s]/home/prm/anaconda3/envs/surprise/lib/python3.10/site-packages/dynesty/dynamicsampler.py:453: RuntimeWarning: overflow encountered in cast\n",
      "  cur_live_logl[not_finite] = _LOWL_VAL\n",
      "25130it [00:29, 859.33it/s, batch: 26 | bound: 4 | nc: 1 | ncall: 166231 | eff(%): 14.960 | loglstar: -8.045 < -0.334 < -0.595 | logz: -4.750 +/-  0.040 | stop:  0.969]          \n"
     ]
    }
   ],
   "source": [
    "res_1 = sup.run_nested_sampling(logL1, print_progress=True)\n",
    "res_2 = sup.run_nested_sampling(logL2, print_progress=True)"
   ]
  },
  {
   "cell_type": "code",
   "execution_count": null,
   "metadata": {},
   "outputs": [],
   "source": []
  },
  {
   "cell_type": "code",
   "execution_count": 14,
   "metadata": {},
   "outputs": [
    {
     "data": {
      "application/vnd.jupyter.widget-view+json": {
       "model_id": "249cb94a7a904b22afce57c81676e953",
       "version_major": 2,
       "version_minor": 0
      },
      "text/plain": [
       "Processing batches:   0%|          | 0/26 [00:00<?, ?it/s]"
      ]
     },
     "metadata": {},
     "output_type": "display_data"
    },
    {
     "data": {
      "application/vnd.jupyter.widget-view+json": {
       "model_id": "59c9d99e578b491cb32c5c1709ae4621",
       "version_major": 2,
       "version_minor": 0
      },
      "text/plain": [
       "Processing batches:   0%|          | 0/26 [00:00<?, ?it/s]"
      ]
     },
     "metadata": {},
     "output_type": "display_data"
    },
    {
     "name": "stdout",
     "output_type": "stream",
     "text": [
      "KLD(p2|p1) = 2.31 nats\n"
     ]
    }
   ],
   "source": [
    "KLD_value = sup.KLD_numerical(res_2, logL2, res_1, logL1)\n",
    "print(\"KLD(p2|p1) = {:.2f} nats\".format(KLD_value))"
   ]
  },
  {
   "cell_type": "code",
   "execution_count": null,
   "metadata": {},
   "outputs": [],
   "source": []
  }
 ],
 "metadata": {
  "kernelspec": {
   "display_name": "Python (surprise)",
   "language": "python",
   "name": "surprise"
  },
  "language_info": {
   "codemirror_mode": {
    "name": "ipython",
    "version": 3
   },
   "file_extension": ".py",
   "mimetype": "text/x-python",
   "name": "python",
   "nbconvert_exporter": "python",
   "pygments_lexer": "ipython3",
   "version": "3.10.13"
  }
 },
 "nbformat": 4,
 "nbformat_minor": 4
}
